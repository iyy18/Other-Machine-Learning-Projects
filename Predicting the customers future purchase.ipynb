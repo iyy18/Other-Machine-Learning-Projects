{
 "cells": [
  {
   "cell_type": "markdown",
   "id": "783f5502-16d1-49c1-a5da-dce3f527f0f4",
   "metadata": {},
   "source": [
    "# Predicting the customers future purchase\n",
    "\n",
    "**Goal: Use the historical customer transaction data to predict the customers' future widgets purchase**\n",
    "\n",
    "\n",
    "## Steps:\n",
    "1. Data Exploration and Preprocessing:\n",
    "    - Understand Data\n",
    "    - Data Cleaning: missing values, duplicates, outliers, etc.\n",
    "    - Feature Engineer: if there is any feature needed to be convert to the right data type\n",
    "    - Split data: Calibration and holdout data set\n",
    "    - Analyze and visualize: the prepared data before fit the models\n",
    "    \n",
    "2. Model Implementation:\n",
    "    - ModifiedBetaGeoFitter:\n",
    "        - Analysis model performance\n",
    "        - Generate predictions\n",
    "    - GammaGammaFitter\n",
    "        - Analysis model performance\n",
    "        - Generate predictions\n",
    "        \n",
    "    - Combine a CLV\n",
    "        \n",
    "3. Predicting Future Customer Behavior:\n",
    "    - Simulation\n",
    "    - Segmentation\n",
    "    - Performance Evaluation\n",
    "    \n",
    "4. Summary"
   ]
  },
  {
   "cell_type": "code",
   "execution_count": 1,
   "id": "f9c13b31-5536-40e8-aa55-287712e0ebc6",
   "metadata": {
    "tags": []
   },
   "outputs": [],
   "source": [
    "import pandas as pd\n",
    "import numpy as np\n",
    "import os\n",
    "import datetime as dt\n",
    "import pickle\n",
    "\n",
    "from typing import Dict, Tuple, List\n",
    "import logging\n",
    "\n",
    "from lifetimes import ModifiedBetaGeoFitter, GammaGammaFitter\n",
    "from lifetimes.plotting import plot_calibration_purchases_vs_holdout_purchases, plot_period_transactions\n",
    "\n",
    "import matplotlib.pyplot as plt\n",
    "import seaborn as sns\n",
    "\n",
    "\n",
    "from helper_function import *\n",
    "import warnings\n",
    "warnings.filterwarnings('ignore')\n",
    "\n",
    "# Set up logging\n",
    "logging.basicConfig(level=logging.INFO)\n",
    "logger = logging.getLogger()"
   ]
  },
  {
   "cell_type": "markdown",
   "id": "f82ddc33-dcbb-450e-9fe5-813928b02eba",
   "metadata": {},
   "source": [
    "# 1. Data Exploration and Preprocessing:\n",
    "- Load the dataset from the provided CSV file.\n",
    "- Ensure the data is in the correct format for analysis:\n",
    "    -     Check if it is the right format, otherwise, converting it into a suitable format.\n",
    "- Dataset detail:\n",
    "    - `CustomerID`: it's possible to have multiple rows with the same CustomerID\n",
    "    - `Timestamp`: a UTC timestamp of the transaction \n",
    "    - `PurchaseValue`: the monetary value of the transaction\n",
    "    \n",
    "- Prepare the data for the lifetimes models, get Recency, Frequency, Monetary"
   ]
  },
  {
   "cell_type": "code",
   "execution_count": 2,
   "id": "450e138a-3985-4feb-bfd1-b56ed7c524e2",
   "metadata": {
    "tags": []
   },
   "outputs": [],
   "source": [
    "def explore_data(data: pd.DataFrame):\n",
    "    \"\"\"\n",
    "    Check the data.\n",
    "    \"\"\"\n",
    "    print(\"############### Shape ###############\")\n",
    "    print(data.shape)\n",
    "    print(\"############### Types ###############\")\n",
    "    print(data.dtypes)\n",
    "    print(\"################################# Head #################################\")\n",
    "    print(data.head())\n",
    "    print(\"############### Nulls ###############\")\n",
    "    print(data.isnull().sum())\n",
    "    print(\"################################# Describe #################################\")\n",
    "    print(data.describe().T)\n",
    "    print(\"################################# Timestamp Info #################################\")\n",
    "    print(data.Timestamp.min(), data.Timestamp.max())\n",
    "    print(\"\\nUnique Values Count in Each Column:\")\n",
    "    for column in data.columns:\n",
    "        print(f\"{column}: {data[column].nunique()}\")"
   ]
  },
  {
   "cell_type": "code",
   "execution_count": 3,
   "id": "bed57fd2-b01a-45d8-957a-08dea5d08427",
   "metadata": {
    "tags": []
   },
   "outputs": [
    {
     "name": "stdout",
     "output_type": "stream",
     "text": [
      "############### Shape ###############\n",
      "(49945, 3)\n",
      "############### Types ###############\n",
      "CustomerID        object\n",
      "Timestamp         object\n",
      "PurchaseValue    float64\n",
      "dtype: object\n",
      "################################# Head #################################\n",
      "                         CustomerID             Timestamp  PurchaseValue\n",
      "0  5611860a94204a4078659f1667372cc4  2017-02-09T18:31:00Z           4.72\n",
      "1  07b260307114f9cffc5601eb7ad4b565  2017-06-28T19:26:00Z           5.33\n",
      "2  1ede55062d0d68c70fc4d355a5328d11  2017-07-28T17:47:00Z           5.35\n",
      "3  42b8e86e8da5e35628bcdc146c358665  2016-12-17T22:59:00Z           6.00\n",
      "4  1047f2787b7efc759d7ffcbc40ef7e19  2016-12-05T17:23:00Z           6.28\n",
      "############### Nulls ###############\n",
      "CustomerID       0\n",
      "Timestamp        0\n",
      "PurchaseValue    0\n",
      "dtype: int64\n",
      "################################# Describe #################################\n",
      "                 count        mean         std   min   25%     50%     75%  \\\n",
      "PurchaseValue  49945.0  236.888196  245.760987  4.72  97.1  166.66  286.79   \n",
      "\n",
      "                    max  \n",
      "PurchaseValue  11599.68  \n",
      "################################# Timestamp Info #################################\n",
      "2016-11-30T04:47:00Z 2017-12-06T17:53:00Z\n",
      "\n",
      "Unique Values Count in Each Column:\n",
      "CustomerID: 23708\n",
      "Timestamp: 44795\n",
      "PurchaseValue: 26600\n"
     ]
    }
   ],
   "source": [
    "file_path = os.path.join(os.getcwd(), \"data.csv\")\n",
    "data = read_data(file_path)\n",
    "explore_data(data)"
   ]
  },
  {
   "cell_type": "markdown",
   "id": "f77094e7-a3b8-4cdb-bf09-e35017fd9632",
   "metadata": {},
   "source": [
    "**No missing values, but feature Timestamp needs to be converted to the right datatype, and we have some outliers need to check**"
   ]
  },
  {
   "cell_type": "code",
   "execution_count": 4,
   "id": "80705c4e-fe14-464f-ae23-ebb4db9c62b3",
   "metadata": {
    "tags": []
   },
   "outputs": [],
   "source": [
    "data['Timestamp'] = pd.to_datetime(data['Timestamp'])"
   ]
  },
  {
   "cell_type": "code",
   "execution_count": 5,
   "id": "3f785f32-055f-4bc0-9b63-5d6be0c34b40",
   "metadata": {
    "tags": []
   },
   "outputs": [
    {
     "data": {
      "text/plain": [
       "count    23708.000000\n",
       "mean         2.106673\n",
       "std          2.330419\n",
       "min          1.000000\n",
       "25%          1.000000\n",
       "50%          1.000000\n",
       "75%          2.000000\n",
       "max        135.000000\n",
       "Name: count, dtype: float64"
      ]
     },
     "execution_count": 5,
     "metadata": {},
     "output_type": "execute_result"
    }
   ],
   "source": [
    "data.CustomerID.value_counts().describe()"
   ]
  },
  {
   "cell_type": "code",
   "execution_count": 6,
   "id": "d12d5fae-c6ea-4a8c-9819-3e0577cde1a9",
   "metadata": {
    "tags": []
   },
   "outputs": [
    {
     "data": {
      "text/plain": [
       "Timedelta('371 days 13:06:00')"
      ]
     },
     "execution_count": 6,
     "metadata": {},
     "output_type": "execute_result"
    }
   ],
   "source": [
    "data[\"Timestamp\"].max() - data[\"Timestamp\"].min()"
   ]
  },
  {
   "cell_type": "markdown",
   "id": "1e6cb4af-a305-486e-90fb-e3e03bad132e",
   "metadata": {},
   "source": [
    "We have 23,708 unique customers, and 50% of the customers have only 1 purchase. We want to know who of these customers is likely to continue buying the product. "
   ]
  },
  {
   "cell_type": "markdown",
   "id": "ceb5ad0d-c7dc-407c-a3d4-aa31455bf160",
   "metadata": {},
   "source": [
    "**Also, from the basic stats, we can see the PurchaseValue have some outliers, let's visualize and run an outliers detection.**"
   ]
  },
  {
   "cell_type": "code",
   "execution_count": 7,
   "id": "91ff24ff-eaf1-455b-9d54-b1bcffb72598",
   "metadata": {
    "tags": []
   },
   "outputs": [],
   "source": [
    "def outlier_analysis(df: pd.DataFrame, column: str) -> None:\n",
    "    \"\"\"Outlier stats analysis using 3 stdev\"\"\"\n",
    "    mean = df[column].mean()\n",
    "    std = df[column].std()\n",
    "    \n",
    "    outliers = df[(df[column] > mean + 3 * std) | (df[column] < mean - 3 * std)]\n",
    "    data_cleaned = df[(df[column] >= mean - 3 * std) & (df[column] <= mean + 3 * std)]\n",
    "    data_cleaned = data_cleaned.reset_index(drop=True)\n",
    "\n",
    "    # Visualize feature's outliers\n",
    "    fig, axs = plt.subplots(1, 2, figsize=(15, 6))\n",
    "    # Boxplot\n",
    "    sns.boxplot(x=df[column], ax=axs[0])\n",
    "    axs[0].set_title(f\"Box Plot of {column}\")\n",
    "\n",
    "    # Histogram\n",
    "    sns.histplot(df[column], kde=True, ax=axs[1])\n",
    "    axs[1].set_title(f\"Histogram of {column}\")\n",
    "    plt.show()\n",
    "    \n",
    "    return outliers, data_cleaned"
   ]
  },
  {
   "cell_type": "code",
   "execution_count": 8,
   "id": "6994ac62-e247-4fd6-8066-48e27e07c945",
   "metadata": {
    "tags": []
   },
   "outputs": [
    {
     "data": {
      "image/png": "[encoded data removed]",
      "text/plain": [
       "<Figure size 1500x600 with 2 Axes>"
      ]
     },
     "metadata": {},
     "output_type": "display_data"
    }
   ],
   "source": [
    "outliers, data_cleaned = outlier_analysis(data, column=\"PurchaseValue\")"
   ]
  },
  {
   "cell_type": "code",
   "execution_count": 9,
   "id": "c8f5cb5d-01c6-4036-b98f-ee7c6ae75d34",
   "metadata": {
    "tags": []
   },
   "outputs": [
    {
     "data": {
      "text/html": [
       "<div>\n",
       "<style scoped>\n",
       "    .dataframe tbody tr th:only-of-type {\n",
       "        vertical-align: middle;\n",
       "    }\n",
       "\n",
       "    .dataframe tbody tr th {\n",
       "        vertical-align: top;\n",
       "    }\n",
       "\n",
       "    .dataframe thead th {\n",
       "        text-align: right;\n",
       "    }\n",
       "</style>\n",
       "<table border=\"1\" class=\"dataframe\">\n",
       "  <thead>\n",
       "    <tr style=\"text-align: right;\">\n",
       "      <th></th>\n",
       "      <th>PurchaseValue</th>\n",
       "    </tr>\n",
       "  </thead>\n",
       "  <tbody>\n",
       "    <tr>\n",
       "      <th>count</th>\n",
       "      <td>49003.000000</td>\n",
       "    </tr>\n",
       "    <tr>\n",
       "      <th>mean</th>\n",
       "      <td>214.656849</td>\n",
       "    </tr>\n",
       "    <tr>\n",
       "      <th>std</th>\n",
       "      <td>169.074160</td>\n",
       "    </tr>\n",
       "    <tr>\n",
       "      <th>min</th>\n",
       "      <td>4.720000</td>\n",
       "    </tr>\n",
       "    <tr>\n",
       "      <th>25%</th>\n",
       "      <td>96.870000</td>\n",
       "    </tr>\n",
       "    <tr>\n",
       "      <th>50%</th>\n",
       "      <td>163.000000</td>\n",
       "    </tr>\n",
       "    <tr>\n",
       "      <th>75%</th>\n",
       "      <td>275.390000</td>\n",
       "    </tr>\n",
       "    <tr>\n",
       "      <th>max</th>\n",
       "      <td>973.800000</td>\n",
       "    </tr>\n",
       "  </tbody>\n",
       "</table>\n",
       "</div>"
      ],
      "text/plain": [
       "       PurchaseValue\n",
       "count   49003.000000\n",
       "mean      214.656849\n",
       "std       169.074160\n",
       "min         4.720000\n",
       "25%        96.870000\n",
       "50%       163.000000\n",
       "75%       275.390000\n",
       "max       973.800000"
      ]
     },
     "execution_count": 9,
     "metadata": {},
     "output_type": "execute_result"
    }
   ],
   "source": [
    "data_cleaned.describe()"
   ]
  },
  {
   "cell_type": "markdown",
   "id": "c6c53178-95d0-4ea3-b061-904522d00d11",
   "metadata": {
    "tags": []
   },
   "source": [
    "**In some cases, high-value transactions might be normal and should not be considered as outliers, however, we don't have enough information of this dataset, for example, what is this ecommerce store? what are the product/service types of this ecommerce sell? what are these high-value transacations' product type (i.e. computer, jewelry, etc)? what is the basic price rate for each of the product/service type?If I have more information, it would be easier to trime the outliers.**"
   ]
  },
  {
   "cell_type": "markdown",
   "id": "b24669fb-dd4b-4741-98ac-d279883933e0",
   "metadata": {},
   "source": [
    "Let's take a look at the maximum purchase value's info"
   ]
  },
  {
   "cell_type": "code",
   "execution_count": 10,
   "id": "27e765dc-e718-4447-b329-68e3265bfd77",
   "metadata": {
    "tags": []
   },
   "outputs": [
    {
     "data": {
      "text/html": [
       "<div>\n",
       "<style scoped>\n",
       "    .dataframe tbody tr th:only-of-type {\n",
       "        vertical-align: middle;\n",
       "    }\n",
       "\n",
       "    .dataframe tbody tr th {\n",
       "        vertical-align: top;\n",
       "    }\n",
       "\n",
       "    .dataframe thead th {\n",
       "        text-align: right;\n",
       "    }\n",
       "</style>\n",
       "<table border=\"1\" class=\"dataframe\">\n",
       "  <thead>\n",
       "    <tr style=\"text-align: right;\">\n",
       "      <th></th>\n",
       "      <th>CustomerID</th>\n",
       "      <th>Timestamp</th>\n",
       "      <th>PurchaseValue</th>\n",
       "    </tr>\n",
       "  </thead>\n",
       "  <tbody>\n",
       "    <tr>\n",
       "      <th>49944</th>\n",
       "      <td>dca76db00cc59dfbcdcc97c8bbc7f9f1</td>\n",
       "      <td>2016-12-21 19:27:00+00:00</td>\n",
       "      <td>11599.68</td>\n",
       "    </tr>\n",
       "  </tbody>\n",
       "</table>\n",
       "</div>"
      ],
      "text/plain": [
       "                             CustomerID                 Timestamp  \\\n",
       "49944  dca76db00cc59dfbcdcc97c8bbc7f9f1 2016-12-21 19:27:00+00:00   \n",
       "\n",
       "       PurchaseValue  \n",
       "49944       11599.68  "
      ]
     },
     "execution_count": 10,
     "metadata": {},
     "output_type": "execute_result"
    }
   ],
   "source": [
    "data[data['PurchaseValue']==11599.68]"
   ]
  },
  {
   "cell_type": "code",
   "execution_count": 11,
   "id": "81dd572f-faf9-4ba8-af1a-a964fa3cc85a",
   "metadata": {
    "tags": []
   },
   "outputs": [
    {
     "data": {
      "text/plain": [
       "(24, 3)"
      ]
     },
     "execution_count": 11,
     "metadata": {},
     "output_type": "execute_result"
    }
   ],
   "source": [
    "data[data['CustomerID']=='dca76db00cc59dfbcdcc97c8bbc7f9f1'].shape"
   ]
  },
  {
   "cell_type": "code",
   "execution_count": 12,
   "id": "6d85b6f0-1c15-4c99-9340-d762680a040c",
   "metadata": {
    "tags": []
   },
   "outputs": [
    {
     "data": {
      "text/html": [
       "<div>\n",
       "<style scoped>\n",
       "    .dataframe tbody tr th:only-of-type {\n",
       "        vertical-align: middle;\n",
       "    }\n",
       "\n",
       "    .dataframe tbody tr th {\n",
       "        vertical-align: top;\n",
       "    }\n",
       "\n",
       "    .dataframe thead th {\n",
       "        text-align: right;\n",
       "    }\n",
       "</style>\n",
       "<table border=\"1\" class=\"dataframe\">\n",
       "  <thead>\n",
       "    <tr style=\"text-align: right;\">\n",
       "      <th></th>\n",
       "      <th>PurchaseValue</th>\n",
       "    </tr>\n",
       "  </thead>\n",
       "  <tbody>\n",
       "    <tr>\n",
       "      <th>count</th>\n",
       "      <td>24.000000</td>\n",
       "    </tr>\n",
       "    <tr>\n",
       "      <th>mean</th>\n",
       "      <td>797.443333</td>\n",
       "    </tr>\n",
       "    <tr>\n",
       "      <th>std</th>\n",
       "      <td>2311.086000</td>\n",
       "    </tr>\n",
       "    <tr>\n",
       "      <th>min</th>\n",
       "      <td>64.870000</td>\n",
       "    </tr>\n",
       "    <tr>\n",
       "      <th>25%</th>\n",
       "      <td>109.365000</td>\n",
       "    </tr>\n",
       "    <tr>\n",
       "      <th>50%</th>\n",
       "      <td>299.285000</td>\n",
       "    </tr>\n",
       "    <tr>\n",
       "      <th>75%</th>\n",
       "      <td>499.380000</td>\n",
       "    </tr>\n",
       "    <tr>\n",
       "      <th>max</th>\n",
       "      <td>11599.680000</td>\n",
       "    </tr>\n",
       "  </tbody>\n",
       "</table>\n",
       "</div>"
      ],
      "text/plain": [
       "       PurchaseValue\n",
       "count      24.000000\n",
       "mean      797.443333\n",
       "std      2311.086000\n",
       "min        64.870000\n",
       "25%       109.365000\n",
       "50%       299.285000\n",
       "75%       499.380000\n",
       "max     11599.680000"
      ]
     },
     "execution_count": 12,
     "metadata": {},
     "output_type": "execute_result"
    }
   ],
   "source": [
    "data[data['CustomerID']=='dca76db00cc59dfbcdcc97c8bbc7f9f1'].describe()"
   ]
  },
  {
   "cell_type": "code",
   "execution_count": 13,
   "id": "65f0d013-0175-408c-b87c-e877eae92881",
   "metadata": {
    "tags": []
   },
   "outputs": [
    {
     "data": {
      "text/html": [
       "<div>\n",
       "<style scoped>\n",
       "    .dataframe tbody tr th:only-of-type {\n",
       "        vertical-align: middle;\n",
       "    }\n",
       "\n",
       "    .dataframe tbody tr th {\n",
       "        vertical-align: top;\n",
       "    }\n",
       "\n",
       "    .dataframe thead th {\n",
       "        text-align: right;\n",
       "    }\n",
       "</style>\n",
       "<table border=\"1\" class=\"dataframe\">\n",
       "  <thead>\n",
       "    <tr style=\"text-align: right;\">\n",
       "      <th></th>\n",
       "      <th>PurchaseValue</th>\n",
       "    </tr>\n",
       "  </thead>\n",
       "  <tbody>\n",
       "    <tr>\n",
       "      <th>count</th>\n",
       "      <td>49944.000000</td>\n",
       "    </tr>\n",
       "    <tr>\n",
       "      <th>mean</th>\n",
       "      <td>236.660685</td>\n",
       "    </tr>\n",
       "    <tr>\n",
       "      <th>std</th>\n",
       "      <td>240.446278</td>\n",
       "    </tr>\n",
       "    <tr>\n",
       "      <th>min</th>\n",
       "      <td>4.720000</td>\n",
       "    </tr>\n",
       "    <tr>\n",
       "      <th>25%</th>\n",
       "      <td>97.097500</td>\n",
       "    </tr>\n",
       "    <tr>\n",
       "      <th>50%</th>\n",
       "      <td>166.660000</td>\n",
       "    </tr>\n",
       "    <tr>\n",
       "      <th>75%</th>\n",
       "      <td>286.775000</td>\n",
       "    </tr>\n",
       "    <tr>\n",
       "      <th>max</th>\n",
       "      <td>5626.450000</td>\n",
       "    </tr>\n",
       "  </tbody>\n",
       "</table>\n",
       "</div>"
      ],
      "text/plain": [
       "       PurchaseValue\n",
       "count   49944.000000\n",
       "mean      236.660685\n",
       "std       240.446278\n",
       "min         4.720000\n",
       "25%        97.097500\n",
       "50%       166.660000\n",
       "75%       286.775000\n",
       "max      5626.450000"
      ]
     },
     "execution_count": 13,
     "metadata": {},
     "output_type": "execute_result"
    }
   ],
   "source": [
    "# let's drop the row with the extreme outlier \n",
    "data = data[data['PurchaseValue']!=11599.68]\n",
    "data.describe()"
   ]
  },
  {
   "cell_type": "code",
   "execution_count": 14,
   "id": "5c7b69dd-e41f-4dfe-82f9-5da103e70713",
   "metadata": {
    "tags": []
   },
   "outputs": [
    {
     "data": {
      "text/plain": [
       "(851, 3)"
      ]
     },
     "execution_count": 14,
     "metadata": {},
     "output_type": "execute_result"
    }
   ],
   "source": [
    "data[data['PurchaseValue']>=1000].shape"
   ]
  },
  {
   "cell_type": "markdown",
   "id": "158c73b4-d0bd-4fb2-bf98-f6ab20a47dba",
   "metadata": {
    "tags": []
   },
   "source": [
    "## 1.1 Prepare the data for the lifetimes models:\n",
    "\n",
    "### 1.1.1 Get RFM for each customer:\n",
    "- `R`: Recency, the duration between a customer's first purchase and their latest purchase. \n",
    "- `F`: Frequency, the number of a customer repeat purchases. \n",
    "- `M`: Monetary Value, the average PurchaseValue of a customer, excluding the first purchase\n",
    "\n",
    "Since we have ~ 50k rows and the data spans over a year, we have a substantial amount of data, which allow me to create both a calibration set for training and a holdout set for validation"
   ]
  },
  {
   "cell_type": "code",
   "execution_count": 15,
   "id": "beccca51-263e-4444-a0fc-051716218110",
   "metadata": {
    "tags": []
   },
   "outputs": [
    {
     "name": "stdout",
     "output_type": "stream",
     "text": [
      "371 days 13:06:00\n",
      "2017-08-27 04:47:00+00:00 2017-12-06 17:53:00+00:00\n"
     ]
    }
   ],
   "source": [
    "# total number of days are 371, lets use 270 to split the data into calibration and holdout\n",
    "def prepare_model_data(data: pd.DataFrame, file_path: str, cali_period_days: int = 270) -> None:\n",
    "    \"\"\"\n",
    "    Prepare calibration-holdout data for the models.\n",
    "    data: transaction data.\n",
    "    cali_period_days: Number of days for the calibration period.\n",
    "    file_path: The path to save the prepared data.\n",
    "    \"\"\"\n",
    "    try:\n",
    "        diff_time = data[\"Timestamp\"].max() - data[\"Timestamp\"].min()\n",
    "        print(diff_time)\n",
    "        cali_date = data[\"Timestamp\"].min() + dt.timedelta(days=cali_period_days)\n",
    "        obs_date = cali_date + (diff_time - dt.timedelta(days=cali_period_days))\n",
    "        print(cali_date, obs_date)\n",
    "\n",
    "        # daily holdout data\n",
    "        daily_holdout = calibration_and_holdout_data(\n",
    "            transactions=data, \n",
    "            customer_id_col=\"CustomerID\",\n",
    "            datetime_col=\"Timestamp\", \n",
    "            monetary_value_col=\"PurchaseValue\",\n",
    "            calibration_period_end=cali_date,\n",
    "            observation_period_end=obs_date,\n",
    "            freq=\"D\"\n",
    "        )\n",
    "        \n",
    "        # daily summary data\n",
    "        daily_summary = summary_data_from_transaction_data(\n",
    "            transactions=data, \n",
    "            customer_id_col=\"CustomerID\", \n",
    "            datetime_col=\"Timestamp\", \n",
    "            monetary_value_col=\"PurchaseValue\",\n",
    "            freq = \"D\"\n",
    "        )\n",
    "        \n",
    "        daily_holdout.to_pickle(f\"{file_path}\\\\model_data\\\\daily_holdout.pkl\")\n",
    "        daily_summary.to_pickle(f\"{file_path}\\\\model_data\\\\daily_summary.pkl\")\n",
    "        \n",
    "        return daily_holdout, daily_summary\n",
    "    \n",
    "        logger.info(\"Data preparation and saving completed successfully.\")\n",
    "    except Exception as e:\n",
    "        logger.error(f\"Error in preparing model data: {e}\")\n",
    "        raise\n",
    "        \n",
    "daily_holdout,daily_summary = prepare_model_data(data, file_path=os.path.join(os.getcwd())) "
   ]
  },
  {
   "cell_type": "code",
   "execution_count": 16,
   "id": "89b6c1c8-6b76-4c2e-8431-bbef06dceaff",
   "metadata": {
    "tags": []
   },
   "outputs": [
    {
     "name": "stdout",
     "output_type": "stream",
     "text": [
      "Num of repeat purchase:\n"
     ]
    },
    {
     "data": {
      "text/plain": [
       "frequency_cal\n",
       "0.000     11645\n",
       "1.000      3484\n",
       "2.000      1587\n",
       "3.000       746\n",
       "4.000       427\n",
       "5.000       240\n",
       "6.000       131\n",
       "7.000        84\n",
       "8.000        46\n",
       "9.000        37\n",
       "10.000       18\n",
       "11.000       16\n",
       "12.000       14\n",
       "13.000       13\n",
       "15.000        8\n",
       "Name: count, dtype: int64"
      ]
     },
     "execution_count": 16,
     "metadata": {},
     "output_type": "execute_result"
    }
   ],
   "source": [
    "# training frequency\n",
    "pd.options.display.float_format = '{:,.3f}'.format\n",
    "x = daily_holdout[\"frequency_cal\"].value_counts()\n",
    "x = x.nlargest(15)\n",
    "print(\"Num of repeat purchase:\")\n",
    "x.sort_index(ascending=True)"
   ]
  },
  {
   "cell_type": "markdown",
   "id": "bf541a4c-ae48-4d46-94a4-50e927bb13bf",
   "metadata": {},
   "source": [
    "### 1.1.2 Preparing data to fit Gamma-Gamma Model:\n",
    "- Filter out customers who have made 0 repeat purchase as the Gamma-Gamma model only applies to repeat customers."
   ]
  },
  {
   "cell_type": "code",
   "execution_count": 17,
   "id": "fd05b5d9-e912-4e83-a43f-3e562a2cd09e",
   "metadata": {
    "tags": []
   },
   "outputs": [
    {
     "data": {
      "text/html": [
       "<div>\n",
       "<style scoped>\n",
       "    .dataframe tbody tr th:only-of-type {\n",
       "        vertical-align: middle;\n",
       "    }\n",
       "\n",
       "    .dataframe tbody tr th {\n",
       "        vertical-align: top;\n",
       "    }\n",
       "\n",
       "    .dataframe thead th {\n",
       "        text-align: right;\n",
       "    }\n",
       "</style>\n",
       "<table border=\"1\" class=\"dataframe\">\n",
       "  <thead>\n",
       "    <tr style=\"text-align: right;\">\n",
       "      <th></th>\n",
       "      <th>frequency_cal</th>\n",
       "      <th>recency_cal</th>\n",
       "      <th>T_cal</th>\n",
       "      <th>monetary_value_cal</th>\n",
       "      <th>frequency_holdout</th>\n",
       "      <th>monetary_value_holdout</th>\n",
       "      <th>duration_holdout</th>\n",
       "    </tr>\n",
       "    <tr>\n",
       "      <th>CustomerID</th>\n",
       "      <th></th>\n",
       "      <th></th>\n",
       "      <th></th>\n",
       "      <th></th>\n",
       "      <th></th>\n",
       "      <th></th>\n",
       "      <th></th>\n",
       "    </tr>\n",
       "  </thead>\n",
       "  <tbody>\n",
       "    <tr>\n",
       "      <th>0001117ff1305c1fe840697166e61564</th>\n",
       "      <td>1.000</td>\n",
       "      <td>11.000</td>\n",
       "      <td>243.000</td>\n",
       "      <td>87.280</td>\n",
       "      <td>0.000</td>\n",
       "      <td>0.000</td>\n",
       "      <td>101.000</td>\n",
       "    </tr>\n",
       "    <tr>\n",
       "      <th>00028502859fd7e111d88c20456b59d5</th>\n",
       "      <td>0.000</td>\n",
       "      <td>0.000</td>\n",
       "      <td>241.000</td>\n",
       "      <td>0.000</td>\n",
       "      <td>0.000</td>\n",
       "      <td>0.000</td>\n",
       "      <td>101.000</td>\n",
       "    </tr>\n",
       "    <tr>\n",
       "      <th>0003f3458a6e7b495a975c2d9ddda559</th>\n",
       "      <td>1.000</td>\n",
       "      <td>2.000</td>\n",
       "      <td>242.000</td>\n",
       "      <td>76.630</td>\n",
       "      <td>1.000</td>\n",
       "      <td>99.500</td>\n",
       "      <td>101.000</td>\n",
       "    </tr>\n",
       "    <tr>\n",
       "      <th>000784b838b807ad589d4bc69c0c562f</th>\n",
       "      <td>0.000</td>\n",
       "      <td>0.000</td>\n",
       "      <td>109.000</td>\n",
       "      <td>0.000</td>\n",
       "      <td>0.000</td>\n",
       "      <td>0.000</td>\n",
       "      <td>101.000</td>\n",
       "    </tr>\n",
       "    <tr>\n",
       "      <th>000ad0f90e9fcb6ff5a0bc480cccbdb3</th>\n",
       "      <td>5.000</td>\n",
       "      <td>68.000</td>\n",
       "      <td>99.000</td>\n",
       "      <td>229.782</td>\n",
       "      <td>0.000</td>\n",
       "      <td>0.000</td>\n",
       "      <td>101.000</td>\n",
       "    </tr>\n",
       "  </tbody>\n",
       "</table>\n",
       "</div>"
      ],
      "text/plain": [
       "                                  frequency_cal  recency_cal   T_cal  \\\n",
       "CustomerID                                                             \n",
       "0001117ff1305c1fe840697166e61564          1.000       11.000 243.000   \n",
       "00028502859fd7e111d88c20456b59d5          0.000        0.000 241.000   \n",
       "0003f3458a6e7b495a975c2d9ddda559          1.000        2.000 242.000   \n",
       "000784b838b807ad589d4bc69c0c562f          0.000        0.000 109.000   \n",
       "000ad0f90e9fcb6ff5a0bc480cccbdb3          5.000       68.000  99.000   \n",
       "\n",
       "                                  monetary_value_cal  frequency_holdout  \\\n",
       "CustomerID                                                                \n",
       "0001117ff1305c1fe840697166e61564              87.280              0.000   \n",
       "00028502859fd7e111d88c20456b59d5               0.000              0.000   \n",
       "0003f3458a6e7b495a975c2d9ddda559              76.630              1.000   \n",
       "000784b838b807ad589d4bc69c0c562f               0.000              0.000   \n",
       "000ad0f90e9fcb6ff5a0bc480cccbdb3             229.782              0.000   \n",
       "\n",
       "                                  monetary_value_holdout  duration_holdout  \n",
       "CustomerID                                                                  \n",
       "0001117ff1305c1fe840697166e61564                   0.000           101.000  \n",
       "00028502859fd7e111d88c20456b59d5                   0.000           101.000  \n",
       "0003f3458a6e7b495a975c2d9ddda559                  99.500           101.000  \n",
       "000784b838b807ad589d4bc69c0c562f                   0.000           101.000  \n",
       "000ad0f90e9fcb6ff5a0bc480cccbdb3                   0.000           101.000  "
      ]
     },
     "execution_count": 17,
     "metadata": {},
     "output_type": "execute_result"
    }
   ],
   "source": [
    "ggf_holdout = daily_holdout.copy()\n",
    "ggf_holdout.head()"
   ]
  },
  {
   "cell_type": "markdown",
   "id": "fab6bc85-1d2f-4006-99e3-7878507002fb",
   "metadata": {},
   "source": [
    "## 1.2 Plot the distribution plot to check the frequency and monetary value before filter out non-repeat customers"
   ]
  },
  {
   "cell_type": "code",
   "execution_count": 18,
   "id": "02c7029d-2480-4315-b63c-b428cae5e09f",
   "metadata": {
    "tags": []
   },
   "outputs": [
    {
     "data": {
      "image/png": "[encoded data removed]",
      "text/plain": [
       "<Figure size 800x500 with 2 Axes>"
      ]
     },
     "metadata": {},
     "output_type": "display_data"
    }
   ],
   "source": [
    "fig, ax = plt.subplots(\n",
    "    nrows=1,\n",
    "    ncols=2,\n",
    "    figsize=(8, 5),\n",
    "    sharex=False,\n",
    "    sharey=False,\n",
    "    layout=\"constrained\"\n",
    ")\n",
    "sns.kdeplot(x=\"frequency_cal\", data=ggf_holdout, color=\"C2\", clip=(0.0, None), fill=True, ax=ax[0])\n",
    "ax[0].set(title=\"Frequency\",xlabel=\"frequency (log)\",xscale=\"log\")\n",
    "\n",
    "sns.kdeplot(x=\"monetary_value_cal\", data=ggf_holdout, color=\"C3\", clip=(0.0, None), fill=True, ax=ax[1])\n",
    "ax[1].set(title=\"Monetary Value\",xlabel=\"monetary value (log)\",xscale=\"log\")\n",
    "\n",
    "fig.suptitle(\"Data Distribution of Frequency & Monetary (log scale)\", fontsize=16);"
   ]
  },
  {
   "cell_type": "markdown",
   "id": "71c228ff-7c2f-44ae-a50a-605a62f229ba",
   "metadata": {},
   "source": [
    "## 1.3 Remove the non-repeat customers and check the correlation between frequency and monetary_value\n",
    "- To ensure that we can use Gamma Gamma, we need to check if frequency and monetary values are not correlated."
   ]
  },
  {
   "cell_type": "code",
   "execution_count": 19,
   "id": "262b4cb1-ba99-4342-bf52-2d49d5c094ee",
   "metadata": {
    "tags": []
   },
   "outputs": [
    {
     "name": "stdout",
     "output_type": "stream",
     "text": [
      "                    frequency_cal  monetary_value_cal\n",
      "frequency_cal               1.000               0.033\n",
      "monetary_value_cal          0.033               1.000\n"
     ]
    },
    {
     "data": {
      "image/png": "[encoded data removed]",
      "text/plain": [
       "<Figure size 600x500 with 1 Axes>"
      ]
     },
     "metadata": {},
     "output_type": "display_data"
    }
   ],
   "source": [
    "# Getting rid of non repeat customers\n",
    "returning_customers_summary = ggf_holdout[ggf_holdout['frequency_cal']>0]\n",
    "\n",
    "#Check the correlation \n",
    "print(returning_customers_summary[[\"frequency_cal\", \"monetary_value_cal\"]].corr())\n",
    "\n",
    "fig, ax = plt.subplots(figsize = (6,5))\n",
    "sns.scatterplot(x=\"frequency_cal\", y=\"monetary_value_cal\", data=ggf_holdout, ax=ax)\n",
    "ax.set(title=\"Frequency vs Monetary Value\",xlabel=\"frequency\",ylabel=\"monetary value\");"
   ]
  },
  {
   "cell_type": "markdown",
   "id": "21f40761-c3e7-4a63-a39c-7604f461a4df",
   "metadata": {},
   "source": [
    "**The two arrays are very weakly correlated with correlation coefficient of only 0.033. Thus, we can fit and evaluate the Gamma-Gamma model**"
   ]
  },
  {
   "cell_type": "markdown",
   "id": "38e16798-3ef6-4266-a09f-111289d2765f",
   "metadata": {},
   "source": [
    "# 2. Model Implementation using Lifetimes\n",
    "- Implementing the Modified Beta Geometric\n",
    "- Implementing the Gamma-Gamma Model"
   ]
  },
  {
   "cell_type": "code",
   "execution_count": 20,
   "id": "20f148fe-ffa7-45a2-8571-b24d9e58b516",
   "metadata": {
    "tags": []
   },
   "outputs": [],
   "source": [
    "def fit_models(hold_out_data: pd.DataFrame) -> Tuple[ModifiedBetaGeoFitter, GammaGammaFitter]:\n",
    "    \"\"\"\n",
    "    Fit both Modified Beta Geometric and Gamma Gamma models on the calibration and holdout data.\n",
    "    hold_out_data: The calibration and holdout df.\n",
    "    Returns: Fitted MBG and Gamma Gamma models.\n",
    "    \"\"\"\n",
    "    mbg_model = ModifiedBetaGeoFitter()\n",
    "    mbg_model.fit(hold_out_data['frequency_cal'], \n",
    "                  hold_out_data['recency_cal'], \n",
    "                  hold_out_data['T_cal'])\n",
    "    \n",
    "    gamma_gamma_model = GammaGammaFitter()\n",
    "    # remove non repeat customers.\n",
    "    repeat_customers = hold_out_data[hold_out_data['frequency_cal'] > 0]\n",
    "    gamma_gamma_model.fit(repeat_customers['frequency_cal'], \n",
    "                          repeat_customers['monetary_value_cal'])                \n",
    "    return mbg_model, gamma_gamma_model"
   ]
  },
  {
   "cell_type": "code",
   "execution_count": 21,
   "id": "9ab7aff5-555e-45d9-afe1-c93aeb94e895",
   "metadata": {
    "tags": []
   },
   "outputs": [],
   "source": [
    "mbgf, ggf = fit_models(hold_out_data = daily_holdout)"
   ]
  },
  {
   "cell_type": "markdown",
   "id": "9a045dea-0f92-4062-b916-80cf77f96e7b",
   "metadata": {
    "tags": []
   },
   "source": [
    "## 2.1 Modified Beta Geometric model:\n",
    "### 2.1.1 Check the model performance"
   ]
  },
  {
   "cell_type": "code",
   "execution_count": 22,
   "id": "e1395185-1580-4970-abeb-2047717d13f2",
   "metadata": {
    "tags": []
   },
   "outputs": [
    {
     "data": {
      "text/plain": [
       "<Axes: title={'center': 'Actual Purchases in Holdout Period vs Predicted Purchases'}, xlabel='Purchases in calibration period', ylabel='Average of Purchases in Holdout Period'>"
      ]
     },
     "execution_count": 22,
     "metadata": {},
     "output_type": "execute_result"
    },
    {
     "data": {
      "image/png": "[encoded data removed]",
      "text/plain": [
       "<Figure size 640x480 with 1 Axes>"
      ]
     },
     "metadata": {},
     "output_type": "display_data"
    }
   ],
   "source": [
    "# Evaluating the performance of the model pred vs actual\n",
    "plot_calibration_purchases_vs_holdout_purchases(mbgf, daily_holdout)"
   ]
  },
  {
   "cell_type": "code",
   "execution_count": 23,
   "id": "9f1fd7bb-501b-445b-8f7a-a885e7f20b66",
   "metadata": {
    "tags": []
   },
   "outputs": [
    {
     "data": {
      "image/png": "[encoded data removed]",
      "text/plain": [
       "<Figure size 640x480 with 1 Axes>"
      ]
     },
     "metadata": {},
     "output_type": "display_data"
    }
   ],
   "source": [
    "# Plot a figure with period actual and predicted transactions.\n",
    "ax = plot_period_transactions(mbgf, title='Frequency of Repeat Transactions Actual vs Model')\n",
    "sns.despine();"
   ]
  },
  {
   "cell_type": "markdown",
   "id": "535bbe9f-b1d4-4490-ae13-2870f6bd8102",
   "metadata": {},
   "source": [
    "- Above plot compares the frequencies between our actual data and predict data from the distributions generated by the ModifiedBetaGeo model.\n",
    "- The plot indicates our model effectively captures the underlying process."
   ]
  },
  {
   "cell_type": "code",
   "execution_count": 24,
   "id": "2c3ebce2-b46e-408e-bbac-bde7d6d71c12",
   "metadata": {
    "tags": []
   },
   "outputs": [
    {
     "data": {
      "text/plain": [
       "<Axes: title={'center': 'Expected Number of Future Purchases for 1 Unit of Time,\\nby Frequency and Recency of a Customer'}, xlabel=\"Customer's Historical Frequency\", ylabel=\"Customer's Recency\">"
      ]
     },
     "execution_count": 24,
     "metadata": {},
     "output_type": "execute_result"
    },
    {
     "data": {
      "image/png": "[encoded data removed]",
      "text/plain": [
       "<Figure size 640x480 with 2 Axes>"
      ]
     },
     "metadata": {},
     "output_type": "display_data"
    }
   ],
   "source": [
    "from lifetimes.plotting import plot_frequency_recency_matrix\n",
    "\n",
    "plot_frequency_recency_matrix(mbgf)"
   ]
  },
  {
   "cell_type": "markdown",
   "id": "59edf001-edb7-4e70-ad42-b0cc0bf6fc49",
   "metadata": {},
   "source": [
    "From the Frequency/Recency/Future Purchases Matrix plot, we can see:\n",
    "- The best customers are in the bottom right corner — these customers made frequent purchases quite recently, so we have a high expectation they’ll come back.\n",
    "- While, in the top right corner, these customers made frequent purchases and then stopped coming back. It is likely they’ve deactivated"
   ]
  },
  {
   "cell_type": "markdown",
   "id": "0e995ece-d4b7-4af8-9fcc-bfb6486ca909",
   "metadata": {},
   "source": [
    "### 2.1.2 Generate future customer purchase prediction\n",
    " - Write a function to generate predictions based on given time frame\n",
    " - Generate the future purchase predictions "
   ]
  },
  {
   "cell_type": "code",
   "execution_count": 25,
   "id": "f033ecd4-1099-404e-a545-ed886a9f6b09",
   "metadata": {
    "tags": []
   },
   "outputs": [],
   "source": [
    "def predict_future_purchases(data: pd.DataFrame, mbg_model, prediction_name: str, time_frame_days: int) -> pd.DataFrame:\n",
    "    \"\"\"\n",
    "    Predict the number of future purchases within the given time frame for each customer.\n",
    "    \n",
    "    data: The df containing customer data with columns 'frequency_cal', 'recency_cal', and 'T_cal'.\n",
    "    mbg_model: The fitted Modified BG model.\n",
    "    prediction_name: The name of the column to store the predictions.\n",
    "    time_frame_days: The time frame in days for which to predict future purchases.\n",
    "    \n",
    "    Returns: The df with predicted number of purchases for each customer.\n",
    "    \"\"\"\n",
    "    required_columns = {'frequency_cal', 'recency_cal', 'T_cal'}\n",
    "    if not required_columns.issubset(data.columns):\n",
    "        raise ValueError(f\"Data is missing one of the required columns: {required_columns}\")\n",
    "\n",
    "    future_purchases = data.copy()\n",
    "    future_purchases[prediction_name] = mbg_model.conditional_expected_number_of_purchases_up_to_time(\n",
    "        t=time_frame_days,\n",
    "        frequency=future_purchases['frequency_cal'],\n",
    "        recency=future_purchases['recency_cal'],\n",
    "        T=future_purchases['T_cal']\n",
    "    )\n",
    "    future_purchases = future_purchases.sort_values(by=prediction_name, ascending=False)\n",
    "\n",
    "    return future_purchases"
   ]
  },
  {
   "cell_type": "code",
   "execution_count": 26,
   "id": "b52e367a-c432-4c79-be4f-4e67ada01a48",
   "metadata": {
    "tags": []
   },
   "outputs": [
    {
     "data": {
      "text/html": [
       "<div>\n",
       "<style scoped>\n",
       "    .dataframe tbody tr th:only-of-type {\n",
       "        vertical-align: middle;\n",
       "    }\n",
       "\n",
       "    .dataframe tbody tr th {\n",
       "        vertical-align: top;\n",
       "    }\n",
       "\n",
       "    .dataframe thead th {\n",
       "        text-align: right;\n",
       "    }\n",
       "</style>\n",
       "<table border=\"1\" class=\"dataframe\">\n",
       "  <thead>\n",
       "    <tr style=\"text-align: right;\">\n",
       "      <th></th>\n",
       "      <th>frequency_cal</th>\n",
       "      <th>recency_cal</th>\n",
       "      <th>T_cal</th>\n",
       "      <th>monetary_value_cal</th>\n",
       "      <th>frequency_holdout</th>\n",
       "      <th>monetary_value_holdout</th>\n",
       "      <th>duration_holdout</th>\n",
       "      <th>predicted_purchases_12m</th>\n",
       "    </tr>\n",
       "    <tr>\n",
       "      <th>CustomerID</th>\n",
       "      <th></th>\n",
       "      <th></th>\n",
       "      <th></th>\n",
       "      <th></th>\n",
       "      <th></th>\n",
       "      <th></th>\n",
       "      <th></th>\n",
       "      <th></th>\n",
       "    </tr>\n",
       "  </thead>\n",
       "  <tbody>\n",
       "    <tr>\n",
       "      <th>a5fadc51b1ae844ad9a70ad3cfa46a64</th>\n",
       "      <td>61.000</td>\n",
       "      <td>269.000</td>\n",
       "      <td>270.000</td>\n",
       "      <td>439.110</td>\n",
       "      <td>34.000</td>\n",
       "      <td>262.559</td>\n",
       "      <td>101.000</td>\n",
       "      <td>48.068</td>\n",
       "    </tr>\n",
       "    <tr>\n",
       "      <th>48a503edbaded96a3be27deee11967a1</th>\n",
       "      <td>36.000</td>\n",
       "      <td>262.000</td>\n",
       "      <td>270.000</td>\n",
       "      <td>219.839</td>\n",
       "      <td>10.000</td>\n",
       "      <td>185.645</td>\n",
       "      <td>101.000</td>\n",
       "      <td>27.791</td>\n",
       "    </tr>\n",
       "    <tr>\n",
       "      <th>5f01420f0edda6555df5ce1cc62b986c</th>\n",
       "      <td>32.000</td>\n",
       "      <td>269.000</td>\n",
       "      <td>269.000</td>\n",
       "      <td>324.531</td>\n",
       "      <td>7.000</td>\n",
       "      <td>182.973</td>\n",
       "      <td>101.000</td>\n",
       "      <td>25.496</td>\n",
       "    </tr>\n",
       "    <tr>\n",
       "      <th>6d61ac78f193cf9237f3ebfeede61704</th>\n",
       "      <td>18.000</td>\n",
       "      <td>168.000</td>\n",
       "      <td>171.000</td>\n",
       "      <td>298.677</td>\n",
       "      <td>4.000</td>\n",
       "      <td>289.466</td>\n",
       "      <td>101.000</td>\n",
       "      <td>18.527</td>\n",
       "    </tr>\n",
       "    <tr>\n",
       "      <th>d6415e9e368a32ba39f756716c94e754</th>\n",
       "      <td>22.000</td>\n",
       "      <td>242.000</td>\n",
       "      <td>247.000</td>\n",
       "      <td>239.419</td>\n",
       "      <td>1.000</td>\n",
       "      <td>210.330</td>\n",
       "      <td>101.000</td>\n",
       "      <td>18.313</td>\n",
       "    </tr>\n",
       "    <tr>\n",
       "      <th>...</th>\n",
       "      <td>...</td>\n",
       "      <td>...</td>\n",
       "      <td>...</td>\n",
       "      <td>...</td>\n",
       "      <td>...</td>\n",
       "      <td>...</td>\n",
       "      <td>...</td>\n",
       "      <td>...</td>\n",
       "    </tr>\n",
       "    <tr>\n",
       "      <th>5fe830ff7ba5062b21d7c764c89a81e9</th>\n",
       "      <td>4.000</td>\n",
       "      <td>9.000</td>\n",
       "      <td>232.000</td>\n",
       "      <td>161.395</td>\n",
       "      <td>0.000</td>\n",
       "      <td>0.000</td>\n",
       "      <td>101.000</td>\n",
       "      <td>0.056</td>\n",
       "    </tr>\n",
       "    <tr>\n",
       "      <th>fcab6b1b4370519b099f59dc436fa2cb</th>\n",
       "      <td>5.000</td>\n",
       "      <td>24.000</td>\n",
       "      <td>253.000</td>\n",
       "      <td>1,117.436</td>\n",
       "      <td>0.000</td>\n",
       "      <td>0.000</td>\n",
       "      <td>101.000</td>\n",
       "      <td>0.036</td>\n",
       "    </tr>\n",
       "    <tr>\n",
       "      <th>64a0747c72dba75d4318ec5009d7d2c6</th>\n",
       "      <td>5.000</td>\n",
       "      <td>22.000</td>\n",
       "      <td>257.000</td>\n",
       "      <td>111.720</td>\n",
       "      <td>0.000</td>\n",
       "      <td>0.000</td>\n",
       "      <td>101.000</td>\n",
       "      <td>0.030</td>\n",
       "    </tr>\n",
       "    <tr>\n",
       "      <th>23406d7c52e2b378fd4de84b6dd8b08e</th>\n",
       "      <td>7.000</td>\n",
       "      <td>21.000</td>\n",
       "      <td>205.000</td>\n",
       "      <td>596.621</td>\n",
       "      <td>0.000</td>\n",
       "      <td>0.000</td>\n",
       "      <td>101.000</td>\n",
       "      <td>0.017</td>\n",
       "    </tr>\n",
       "    <tr>\n",
       "      <th>285e776fbc3bd1d4ba8ee6b13f83025d</th>\n",
       "      <td>11.000</td>\n",
       "      <td>83.000</td>\n",
       "      <td>268.000</td>\n",
       "      <td>605.748</td>\n",
       "      <td>0.000</td>\n",
       "      <td>0.000</td>\n",
       "      <td>101.000</td>\n",
       "      <td>0.015</td>\n",
       "    </tr>\n",
       "  </tbody>\n",
       "</table>\n",
       "<p>18519 rows × 8 columns</p>\n",
       "</div>"
      ],
      "text/plain": [
       "                                  frequency_cal  recency_cal   T_cal  \\\n",
       "CustomerID                                                             \n",
       "a5fadc51b1ae844ad9a70ad3cfa46a64         61.000      269.000 270.000   \n",
       "48a503edbaded96a3be27deee11967a1         36.000      262.000 270.000   \n",
       "5f01420f0edda6555df5ce1cc62b986c         32.000      269.000 269.000   \n",
       "6d61ac78f193cf9237f3ebfeede61704         18.000      168.000 171.000   \n",
       "d6415e9e368a32ba39f756716c94e754         22.000      242.000 247.000   \n",
       "...                                         ...          ...     ...   \n",
       "5fe830ff7ba5062b21d7c764c89a81e9          4.000        9.000 232.000   \n",
       "fcab6b1b4370519b099f59dc436fa2cb          5.000       24.000 253.000   \n",
       "64a0747c72dba75d4318ec5009d7d2c6          5.000       22.000 257.000   \n",
       "23406d7c52e2b378fd4de84b6dd8b08e          7.000       21.000 205.000   \n",
       "285e776fbc3bd1d4ba8ee6b13f83025d         11.000       83.000 268.000   \n",
       "\n",
       "                                  monetary_value_cal  frequency_holdout  \\\n",
       "CustomerID                                                                \n",
       "a5fadc51b1ae844ad9a70ad3cfa46a64             439.110             34.000   \n",
       "48a503edbaded96a3be27deee11967a1             219.839             10.000   \n",
       "5f01420f0edda6555df5ce1cc62b986c             324.531              7.000   \n",
       "6d61ac78f193cf9237f3ebfeede61704             298.677              4.000   \n",
       "d6415e9e368a32ba39f756716c94e754             239.419              1.000   \n",
       "...                                              ...                ...   \n",
       "5fe830ff7ba5062b21d7c764c89a81e9             161.395              0.000   \n",
       "fcab6b1b4370519b099f59dc436fa2cb           1,117.436              0.000   \n",
       "64a0747c72dba75d4318ec5009d7d2c6             111.720              0.000   \n",
       "23406d7c52e2b378fd4de84b6dd8b08e             596.621              0.000   \n",
       "285e776fbc3bd1d4ba8ee6b13f83025d             605.748              0.000   \n",
       "\n",
       "                                  monetary_value_holdout  duration_holdout  \\\n",
       "CustomerID                                                                   \n",
       "a5fadc51b1ae844ad9a70ad3cfa46a64                 262.559           101.000   \n",
       "48a503edbaded96a3be27deee11967a1                 185.645           101.000   \n",
       "5f01420f0edda6555df5ce1cc62b986c                 182.973           101.000   \n",
       "6d61ac78f193cf9237f3ebfeede61704                 289.466           101.000   \n",
       "d6415e9e368a32ba39f756716c94e754                 210.330           101.000   \n",
       "...                                                  ...               ...   \n",
       "5fe830ff7ba5062b21d7c764c89a81e9                   0.000           101.000   \n",
       "fcab6b1b4370519b099f59dc436fa2cb                   0.000           101.000   \n",
       "64a0747c72dba75d4318ec5009d7d2c6                   0.000           101.000   \n",
       "23406d7c52e2b378fd4de84b6dd8b08e                   0.000           101.000   \n",
       "285e776fbc3bd1d4ba8ee6b13f83025d                   0.000           101.000   \n",
       "\n",
       "                                  predicted_purchases_12m  \n",
       "CustomerID                                                 \n",
       "a5fadc51b1ae844ad9a70ad3cfa46a64                   48.068  \n",
       "48a503edbaded96a3be27deee11967a1                   27.791  \n",
       "5f01420f0edda6555df5ce1cc62b986c                   25.496  \n",
       "6d61ac78f193cf9237f3ebfeede61704                   18.527  \n",
       "d6415e9e368a32ba39f756716c94e754                   18.313  \n",
       "...                                                   ...  \n",
       "5fe830ff7ba5062b21d7c764c89a81e9                    0.056  \n",
       "fcab6b1b4370519b099f59dc436fa2cb                    0.036  \n",
       "64a0747c72dba75d4318ec5009d7d2c6                    0.030  \n",
       "23406d7c52e2b378fd4de84b6dd8b08e                    0.017  \n",
       "285e776fbc3bd1d4ba8ee6b13f83025d                    0.015  \n",
       "\n",
       "[18519 rows x 8 columns]"
      ]
     },
     "execution_count": 26,
     "metadata": {},
     "output_type": "execute_result"
    }
   ],
   "source": [
    "#  Get customers predicted to make the most purchases over the next 12 months use mbgf model\n",
    "future_purchase_12m = predict_future_purchases(data=daily_holdout, \n",
    "                                               mbg_model = mbgf, \n",
    "                                               prediction_name=\"predicted_purchases_12m\", \n",
    "                                               time_frame_days=365)\n",
    "future_purchase_12m"
   ]
  },
  {
   "cell_type": "code",
   "execution_count": 27,
   "id": "6c106d4b-0b53-43e6-abc1-1eb669d4dd40",
   "metadata": {
    "tags": []
   },
   "outputs": [
    {
     "data": {
      "image/png": "[encoded data removed]",
      "text/plain": [
       "<Figure size 800x400 with 1 Axes>"
      ]
     },
     "metadata": {},
     "output_type": "display_data"
    }
   ],
   "source": [
    "plt.figure(figsize=(8, 4))\n",
    "plt.scatter(future_purchase_12m['frequency_holdout'], future_purchase_12m['predicted_purchases_12m'], alpha=0.5)\n",
    "plt.title('Actual vs. Predicted Purchases')\n",
    "plt.xlabel('Actual Purchases (Holdout Period)')\n",
    "plt.ylabel('12 Months Predicted Purchases')\n",
    "plt.grid(True)\n",
    "plt.show()"
   ]
  },
  {
   "cell_type": "markdown",
   "id": "e2936a1f-c57d-435f-96df-61a0c470abc5",
   "metadata": {},
   "source": [
    "**The scatter plot for the MBG model shows a clustering of points along the bottom of the chart, indicating that many actual purchases during the holdout period were 0, which the model predicted showes that it would be higher. Additionally, there seems to be a positive relationship for some customers, but with a large variance.**"
   ]
  },
  {
   "cell_type": "code",
   "execution_count": 28,
   "id": "f08b6722-307f-46fd-9484-da85597c75a9",
   "metadata": {
    "tags": []
   },
   "outputs": [
    {
     "data": {
      "text/html": [
       "<div>\n",
       "<style scoped>\n",
       "    .dataframe tbody tr th:only-of-type {\n",
       "        vertical-align: middle;\n",
       "    }\n",
       "\n",
       "    .dataframe tbody tr th {\n",
       "        vertical-align: top;\n",
       "    }\n",
       "\n",
       "    .dataframe thead th {\n",
       "        text-align: right;\n",
       "    }\n",
       "</style>\n",
       "<table border=\"1\" class=\"dataframe\">\n",
       "  <thead>\n",
       "    <tr style=\"text-align: right;\">\n",
       "      <th></th>\n",
       "      <th>frequency_holdout</th>\n",
       "      <th>predicted_purchases_12m</th>\n",
       "    </tr>\n",
       "  </thead>\n",
       "  <tbody>\n",
       "    <tr>\n",
       "      <th>count</th>\n",
       "      <td>18,519.000</td>\n",
       "      <td>18,519.000</td>\n",
       "    </tr>\n",
       "    <tr>\n",
       "      <th>mean</th>\n",
       "      <td>0.412</td>\n",
       "      <td>1.233</td>\n",
       "    </tr>\n",
       "    <tr>\n",
       "      <th>std</th>\n",
       "      <td>0.940</td>\n",
       "      <td>1.388</td>\n",
       "    </tr>\n",
       "    <tr>\n",
       "      <th>min</th>\n",
       "      <td>0.000</td>\n",
       "      <td>0.015</td>\n",
       "    </tr>\n",
       "    <tr>\n",
       "      <th>25%</th>\n",
       "      <td>0.000</td>\n",
       "      <td>0.453</td>\n",
       "    </tr>\n",
       "    <tr>\n",
       "      <th>50%</th>\n",
       "      <td>0.000</td>\n",
       "      <td>0.812</td>\n",
       "    </tr>\n",
       "    <tr>\n",
       "      <th>75%</th>\n",
       "      <td>1.000</td>\n",
       "      <td>1.443</td>\n",
       "    </tr>\n",
       "    <tr>\n",
       "      <th>max</th>\n",
       "      <td>34.000</td>\n",
       "      <td>48.068</td>\n",
       "    </tr>\n",
       "  </tbody>\n",
       "</table>\n",
       "</div>"
      ],
      "text/plain": [
       "       frequency_holdout  predicted_purchases_12m\n",
       "count         18,519.000               18,519.000\n",
       "mean               0.412                    1.233\n",
       "std                0.940                    1.388\n",
       "min                0.000                    0.015\n",
       "25%                0.000                    0.453\n",
       "50%                0.000                    0.812\n",
       "75%                1.000                    1.443\n",
       "max               34.000                   48.068"
      ]
     },
     "execution_count": 28,
     "metadata": {},
     "output_type": "execute_result"
    }
   ],
   "source": [
    "future_purchase_12m[['frequency_holdout','predicted_purchases_12m']].describe()"
   ]
  },
  {
   "cell_type": "markdown",
   "id": "072bf3c3-991c-478d-80c9-df8cf8c113dc",
   "metadata": {},
   "source": [
    "The above descriptive statistics shows a wide range of actual values for frequency, with a significant number of customers making no repeat purchases during the holdout period. This long-tail distribution is common in customer purchase data and can be challenging for models to predict accurately, especially at the individual customer level.\n",
    "\n",
    "- The actual data has a low mean (0.412) with a standard deviation (0.940) that suggests wide variability in customer purchase frequency.\n",
    "\n",
    "- The model predicts a higher mean number of purchases (1.233) over the next 12 months than what was observed in the holdout data, showing an optimistic forecast of customer purchasing behavior.\n",
    "\n",
    "- The standard deviation of the predicted purchases (1.388) is also higher than the actual holdout data, which could imply that the model is overestimating the variation in purchasing behavior among customers.\n",
    "\n",
    "- The median of actual purchases is 0, meaning that more than half of the customers did not make any repeat purchases during the holdout period. While, the model predict a median of 0.812, suggesting that it expects most customers to make at least one repeat purchase in the next 12 months."
   ]
  },
  {
   "cell_type": "code",
   "execution_count": 29,
   "id": "0e7bc4a3-b140-4a7b-a5fe-e342b1c3787d",
   "metadata": {
    "tags": []
   },
   "outputs": [
    {
     "data": {
      "text/plain": [
       "1.0394860600555322"
      ]
     },
     "execution_count": 29,
     "metadata": {},
     "output_type": "execute_result"
    }
   ],
   "source": [
    "from sklearn.metrics import mean_absolute_error\n",
    "\n",
    "purchase_mae_holdout = mean_absolute_error(y_true = future_purchase_12m[\"frequency_holdout\"],\n",
    "                          y_pred = future_purchase_12m[\"predicted_purchases_12m\"])\n",
    "\n",
    "purchase_mae_holdout"
   ]
  },
  {
   "cell_type": "markdown",
   "id": "54f9308f-2ba2-4254-9468-754654bdde4d",
   "metadata": {},
   "source": [
    "Mean absolute error is ~1.04, which is quite good for this untuned model. This value indicates that on average, the MBG model's predictions are about 1.04 purchases away from the actual number of repeat purchases made by customers during the holdout period."
   ]
  },
  {
   "cell_type": "markdown",
   "id": "d4c18b6c-0993-4e5d-8aa9-29b91b03d7dc",
   "metadata": {},
   "source": [
    "### 2.1.3 List top customers predicted make the most purchase over the next 12 months"
   ]
  },
  {
   "cell_type": "code",
   "execution_count": 30,
   "id": "75450a94-4177-400b-8d2d-715ebdf9863f",
   "metadata": {
    "tags": []
   },
   "outputs": [
    {
     "data": {
      "text/html": [
       "<div>\n",
       "<style scoped>\n",
       "    .dataframe tbody tr th:only-of-type {\n",
       "        vertical-align: middle;\n",
       "    }\n",
       "\n",
       "    .dataframe tbody tr th {\n",
       "        vertical-align: top;\n",
       "    }\n",
       "\n",
       "    .dataframe thead th {\n",
       "        text-align: right;\n",
       "    }\n",
       "</style>\n",
       "<table border=\"1\" class=\"dataframe\">\n",
       "  <thead>\n",
       "    <tr style=\"text-align: right;\">\n",
       "      <th></th>\n",
       "      <th>predicted_purchases_12m</th>\n",
       "    </tr>\n",
       "    <tr>\n",
       "      <th>CustomerID</th>\n",
       "      <th></th>\n",
       "    </tr>\n",
       "  </thead>\n",
       "  <tbody>\n",
       "    <tr>\n",
       "      <th>a5fadc51b1ae844ad9a70ad3cfa46a64</th>\n",
       "      <td>48.068</td>\n",
       "    </tr>\n",
       "    <tr>\n",
       "      <th>48a503edbaded96a3be27deee11967a1</th>\n",
       "      <td>27.791</td>\n",
       "    </tr>\n",
       "    <tr>\n",
       "      <th>5f01420f0edda6555df5ce1cc62b986c</th>\n",
       "      <td>25.496</td>\n",
       "    </tr>\n",
       "    <tr>\n",
       "      <th>6d61ac78f193cf9237f3ebfeede61704</th>\n",
       "      <td>18.527</td>\n",
       "    </tr>\n",
       "    <tr>\n",
       "      <th>d6415e9e368a32ba39f756716c94e754</th>\n",
       "      <td>18.313</td>\n",
       "    </tr>\n",
       "  </tbody>\n",
       "</table>\n",
       "</div>"
      ],
      "text/plain": [
       "                                  predicted_purchases_12m\n",
       "CustomerID                                               \n",
       "a5fadc51b1ae844ad9a70ad3cfa46a64                   48.068\n",
       "48a503edbaded96a3be27deee11967a1                   27.791\n",
       "5f01420f0edda6555df5ce1cc62b986c                   25.496\n",
       "6d61ac78f193cf9237f3ebfeede61704                   18.527\n",
       "d6415e9e368a32ba39f756716c94e754                   18.313"
      ]
     },
     "execution_count": 30,
     "metadata": {},
     "output_type": "execute_result"
    }
   ],
   "source": [
    "top_100_customers_purchase_num_prediction = future_purchase_12m[:100]['predicted_purchases_12m'].to_frame()\n",
    "# store top 100 customers predicted make the most purchase over the next 12 months in a list\n",
    "top100_customers_purchase_list = top_100_customers_purchase_num_prediction.index.tolist()\n",
    "# top_100_customers_purchase_num_prediction.to_csv(r\"model_data/top100_customer_purchases.csv\")\n",
    "top_100_customers_purchase_num_prediction.head()"
   ]
  },
  {
   "cell_type": "code",
   "execution_count": 31,
   "id": "f5e2b1ae-5839-4406-a947-27f2072efbd4",
   "metadata": {
    "tags": []
   },
   "outputs": [
    {
     "data": {
      "image/png": "[encoded data removed]",
      "text/plain": [
       "<Figure size 800x400 with 1 Axes>"
      ]
     },
     "metadata": {},
     "output_type": "display_data"
    }
   ],
   "source": [
    "top_100_ = future_purchase_12m[:100][[\"frequency_holdout\", \"predicted_purchases_12m\"]]\n",
    "\n",
    "plt.figure(figsize=(8, 4))\n",
    "plt.scatter(top_100_['frequency_holdout'], top_100_['predicted_purchases_12m'], alpha=0.5)\n",
    "plt.title('Actual vs. Predicted Purchases')\n",
    "plt.xlabel('Actual Purchases (Holdout Period)')\n",
    "plt.ylabel('12 Months Predicted Purchases')\n",
    "plt.grid(True)\n",
    "plt.show()"
   ]
  },
  {
   "cell_type": "markdown",
   "id": "f85b8b26-df76-468e-968b-afa82f58fe09",
   "metadata": {},
   "source": [
    "For the selected top 100 customers:\n",
    "- the customers with 0 actual repeat purchases during the holdout period were predicted to make repeat purchases in the next 12 months (an optimistic forecast by our model)\n",
    "- the customers with actual repeat purchases, the model predicts a higher number of purchases in many data points "
   ]
  },
  {
   "cell_type": "code",
   "execution_count": 32,
   "id": "052ffafc-7f1d-4260-a5fe-ff5e765b2a63",
   "metadata": {
    "tags": []
   },
   "outputs": [
    {
     "data": {
      "image/png": "[encoded data removed]",
      "text/plain": [
       "<Figure size 500x300 with 1 Axes>"
      ]
     },
     "metadata": {},
     "output_type": "display_data"
    }
   ],
   "source": [
    "#threshold for accuracy (e.g., 20%)\n",
    "threshold = 0.20 \n",
    "\n",
    "# Difference between actual and predicted purchases\n",
    "diff = top_100_['predicted_purchases_12m'] - top_100_['frequency_holdout']\n",
    "percent_diff = diff / top_100_['frequency_holdout']\n",
    "\n",
    "# prediction is within the threshold are colored green (accurate).\n",
    "# prediction is higher than the actual value by more than the threshold are colored red (overestimation).\n",
    "# prediction is lower than the actual value by more than the threshold are colored blue (underestimation).\n",
    "# assign colors based on the difference\n",
    "colors = ['green' if -threshold <= p <= threshold else 'red' if p > 0 else 'blue' for p in percent_diff]\n",
    "\n",
    "plt.figure(figsize=(5, 3))\n",
    "plt.scatter(top_100_['frequency_holdout'], top_100_['predicted_purchases_12m'], alpha=0.3, c=colors)\n",
    "plt.title('Actual vs. Predicted Purchases')\n",
    "plt.xlabel('Actual Purchases (Holdout Period)')\n",
    "plt.ylabel('Predicted Purchases')\n",
    "plt.grid(True)\n",
    "plt.show()"
   ]
  },
  {
   "cell_type": "markdown",
   "id": "ea5e2969-0428-440f-8777-59edcb57024f",
   "metadata": {},
   "source": [
    "- Since we choose 20% as our threshold for accuracy (selected top 100 predicted purchases customers),the above plot shows that most of the model predicted repeat purchases are generally overestimate, especially as the number of actual purchases increases. \n",
    "- Overestimation could lead to inflated expectations for future revenue and could potentially result in overstocking or misallocation of marketing resources. \n",
    "- While, underestimation could lead to missed opportunities for engaging with potentially loyal customers."
   ]
  },
  {
   "cell_type": "markdown",
   "id": "91153707-8f97-48d9-a73c-d69e961c0081",
   "metadata": {},
   "source": [
    "## 2.2 Modeling with Gamma-Gamma Model\n",
    "### 2.2.1 Generate predictions and Check the model performance"
   ]
  },
  {
   "cell_type": "code",
   "execution_count": 33,
   "id": "134fc1c2-b937-4032-a97d-8a0591274477",
   "metadata": {
    "tags": []
   },
   "outputs": [],
   "source": [
    "# future_value = returning_customers_summary.copy()\n",
    "returning_customers_summary['monetary_pred'] = ggf.conditional_expected_average_profit(returning_customers_summary['frequency_holdout'],\n",
    "                                                                                       returning_customers_summary['monetary_value_holdout'])"
   ]
  },
  {
   "cell_type": "code",
   "execution_count": 34,
   "id": "9b67c8a1-df36-4bf4-a18b-72f6b11c7b3e",
   "metadata": {
    "tags": []
   },
   "outputs": [
    {
     "data": {
      "image/png": "[encoded data removed]",
      "text/plain": [
       "<Figure size 800x400 with 1 Axes>"
      ]
     },
     "metadata": {},
     "output_type": "display_data"
    }
   ],
   "source": [
    "plt.figure(figsize=(8, 4))\n",
    "plt.scatter(returning_customers_summary['monetary_value_holdout'], returning_customers_summary['monetary_pred'], alpha=0.5)\n",
    "plt.title('Actual vs. Predicted Value')\n",
    "plt.xlabel('Actual Purchases Value (Holdout Period)')\n",
    "plt.ylabel('Predicted Purchase Value')\n",
    "plt.grid(True)\n",
    "plt.show()"
   ]
  },
  {
   "cell_type": "markdown",
   "id": "25247107-7331-42ef-888e-8fe823fc3e9f",
   "metadata": {},
   "source": [
    "- The above scatter plot shows that the model's predictions are correlated with actual customer spending. This is a positive indication that the model is capturing the underlying spending patterns to some extent.\n",
    "- Most of points along the line where the predicted value equals the actual value, which indicates accurate predictions for most of the customers. while, there are also points that deviate from this line, indicating areas where the model's predictions were less accurate.\n",
    "- The model assumes that spending patterns are similar over time. so if there are customers with changing spending behavior, the model may not capture this well, leading to inaccuracies for those individuals."
   ]
  },
  {
   "cell_type": "code",
   "execution_count": 35,
   "id": "a8c68b9a-8098-4f29-8461-76a6f1159ccd",
   "metadata": {
    "tags": []
   },
   "outputs": [
    {
     "data": {
      "text/plain": [
       "144.77596779094588"
      ]
     },
     "execution_count": 35,
     "metadata": {},
     "output_type": "execute_result"
    }
   ],
   "source": [
    "ggf_mae_holdout = mean_absolute_error(y_true = returning_customers_summary[\"monetary_value_holdout\"],\n",
    "                                      y_pred = returning_customers_summary['monetary_pred'])\n",
    "\n",
    "ggf_mae_holdout "
   ]
  },
  {
   "cell_type": "markdown",
   "id": "cb31772d-bbd2-4a76-a1a5-998d85bfd879",
   "metadata": {},
   "source": [
    "The Gamma-Gamma model shows the MAE for the monetary predictions is ~145, so model's on average, the predictions are 145 away from the actual spending amount per customer during the holdout period, compared to the mean actual purchase value of approximately $109.Since this exercise only have a year's transactions data, and our time is limited, but if we have more years of transactoins data, and can spend more time on model tunning, we could improve the gamma-gamma model performance."
   ]
  },
  {
   "cell_type": "code",
   "execution_count": 36,
   "id": "cffe8a65-1a23-4325-95e3-f07adafb73b6",
   "metadata": {
    "tags": []
   },
   "outputs": [
    {
     "data": {
      "text/html": [
       "<div>\n",
       "<style scoped>\n",
       "    .dataframe tbody tr th:only-of-type {\n",
       "        vertical-align: middle;\n",
       "    }\n",
       "\n",
       "    .dataframe tbody tr th {\n",
       "        vertical-align: top;\n",
       "    }\n",
       "\n",
       "    .dataframe thead th {\n",
       "        text-align: right;\n",
       "    }\n",
       "</style>\n",
       "<table border=\"1\" class=\"dataframe\">\n",
       "  <thead>\n",
       "    <tr style=\"text-align: right;\">\n",
       "      <th></th>\n",
       "      <th>monetary_value_holdout</th>\n",
       "      <th>monetary_pred</th>\n",
       "    </tr>\n",
       "  </thead>\n",
       "  <tbody>\n",
       "    <tr>\n",
       "      <th>count</th>\n",
       "      <td>6,874.000</td>\n",
       "      <td>6,874.000</td>\n",
       "    </tr>\n",
       "    <tr>\n",
       "      <th>mean</th>\n",
       "      <td>109.055</td>\n",
       "      <td>233.323</td>\n",
       "    </tr>\n",
       "    <tr>\n",
       "      <th>std</th>\n",
       "      <td>196.886</td>\n",
       "      <td>108.558</td>\n",
       "    </tr>\n",
       "    <tr>\n",
       "      <th>min</th>\n",
       "      <td>0.000</td>\n",
       "      <td>53.748</td>\n",
       "    </tr>\n",
       "    <tr>\n",
       "      <th>25%</th>\n",
       "      <td>0.000</td>\n",
       "      <td>222.648</td>\n",
       "    </tr>\n",
       "    <tr>\n",
       "      <th>50%</th>\n",
       "      <td>0.000</td>\n",
       "      <td>222.648</td>\n",
       "    </tr>\n",
       "    <tr>\n",
       "      <th>75%</th>\n",
       "      <td>163.194</td>\n",
       "      <td>222.648</td>\n",
       "    </tr>\n",
       "    <tr>\n",
       "      <th>max</th>\n",
       "      <td>2,445.270</td>\n",
       "      <td>1,693.596</td>\n",
       "    </tr>\n",
       "  </tbody>\n",
       "</table>\n",
       "</div>"
      ],
      "text/plain": [
       "       monetary_value_holdout  monetary_pred\n",
       "count               6,874.000      6,874.000\n",
       "mean                  109.055        233.323\n",
       "std                   196.886        108.558\n",
       "min                     0.000         53.748\n",
       "25%                     0.000        222.648\n",
       "50%                     0.000        222.648\n",
       "75%                   163.194        222.648\n",
       "max                 2,445.270      1,693.596"
      ]
     },
     "execution_count": 36,
     "metadata": {},
     "output_type": "execute_result"
    }
   ],
   "source": [
    "returning_customers_summary[['monetary_value_holdout','monetary_pred']].describe()"
   ]
  },
  {
   "cell_type": "markdown",
   "id": "4085e4ad-8e97-42de-9557-3b5a4a1d1b91",
   "metadata": {},
   "source": [
    "Above stats shows, the mean predicted value is more than twice the mean actual value, which means that the model tends to overestimate customer spend. The standard deviation of the predicted monetary value is lower than the actual value shows the model may not capture the full variablitiy in customer spending."
   ]
  },
  {
   "cell_type": "markdown",
   "id": "1640dd82-29a7-4b8e-9849-a666ce5ea96d",
   "metadata": {},
   "source": [
    "## 2.3 Combined CLV Model\n",
    "- Customer Lifetime Value (CLV) is a metric that estimates the total revenue a business can reasonably expect from a single customer account throughout the business relationship. It combines the frequency of purchases, the average monetary value of these purchases, and the length of the customer-business relationship.\n",
    "\n",
    "- The \"customers predicted to spend the most\" are essentially those with the highest CLV"
   ]
  },
  {
   "cell_type": "code",
   "execution_count": 37,
   "id": "dfc75759-fbe7-4f1f-9dd6-b7657deb3291",
   "metadata": {
    "tags": []
   },
   "outputs": [
    {
     "data": {
      "text/html": [
       "<div>\n",
       "<style scoped>\n",
       "    .dataframe tbody tr th:only-of-type {\n",
       "        vertical-align: middle;\n",
       "    }\n",
       "\n",
       "    .dataframe tbody tr th {\n",
       "        vertical-align: top;\n",
       "    }\n",
       "\n",
       "    .dataframe thead th {\n",
       "        text-align: right;\n",
       "    }\n",
       "</style>\n",
       "<table border=\"1\" class=\"dataframe\">\n",
       "  <thead>\n",
       "    <tr style=\"text-align: right;\">\n",
       "      <th></th>\n",
       "      <th>frequency_cal</th>\n",
       "      <th>recency_cal</th>\n",
       "      <th>T_cal</th>\n",
       "      <th>monetary_value_cal</th>\n",
       "      <th>frequency_holdout</th>\n",
       "      <th>monetary_value_holdout</th>\n",
       "      <th>duration_holdout</th>\n",
       "      <th>monetary_pred</th>\n",
       "      <th>clv_12mth</th>\n",
       "    </tr>\n",
       "    <tr>\n",
       "      <th>CustomerID</th>\n",
       "      <th></th>\n",
       "      <th></th>\n",
       "      <th></th>\n",
       "      <th></th>\n",
       "      <th></th>\n",
       "      <th></th>\n",
       "      <th></th>\n",
       "      <th></th>\n",
       "      <th></th>\n",
       "    </tr>\n",
       "  </thead>\n",
       "  <tbody>\n",
       "    <tr>\n",
       "      <th>a5fadc51b1ae844ad9a70ad3cfa46a64</th>\n",
       "      <td>61.000</td>\n",
       "      <td>269.000</td>\n",
       "      <td>270.000</td>\n",
       "      <td>439.110</td>\n",
       "      <td>34.000</td>\n",
       "      <td>262.559</td>\n",
       "      <td>101.000</td>\n",
       "      <td>261.968</td>\n",
       "      <td>19,612.561</td>\n",
       "    </tr>\n",
       "    <tr>\n",
       "      <th>42059a7ede026d409ff0f255635d7a08</th>\n",
       "      <td>16.000</td>\n",
       "      <td>222.000</td>\n",
       "      <td>225.000</td>\n",
       "      <td>630.774</td>\n",
       "      <td>4.000</td>\n",
       "      <td>565.376</td>\n",
       "      <td>101.000</td>\n",
       "      <td>526.551</td>\n",
       "      <td>8,227.258</td>\n",
       "    </tr>\n",
       "    <tr>\n",
       "      <th>5f01420f0edda6555df5ce1cc62b986c</th>\n",
       "      <td>32.000</td>\n",
       "      <td>269.000</td>\n",
       "      <td>269.000</td>\n",
       "      <td>324.531</td>\n",
       "      <td>7.000</td>\n",
       "      <td>182.973</td>\n",
       "      <td>101.000</td>\n",
       "      <td>185.672</td>\n",
       "      <td>7,681.155</td>\n",
       "    </tr>\n",
       "    <tr>\n",
       "      <th>742d5a52d4df7cb14246d7f390de5d8a</th>\n",
       "      <td>15.000</td>\n",
       "      <td>242.000</td>\n",
       "      <td>255.000</td>\n",
       "      <td>531.223</td>\n",
       "      <td>6.000</td>\n",
       "      <td>441.583</td>\n",
       "      <td>101.000</td>\n",
       "      <td>424.400</td>\n",
       "      <td>5,859.329</td>\n",
       "    </tr>\n",
       "    <tr>\n",
       "      <th>48a503edbaded96a3be27deee11967a1</th>\n",
       "      <td>36.000</td>\n",
       "      <td>262.000</td>\n",
       "      <td>270.000</td>\n",
       "      <td>219.839</td>\n",
       "      <td>10.000</td>\n",
       "      <td>185.645</td>\n",
       "      <td>101.000</td>\n",
       "      <td>187.444</td>\n",
       "      <td>5,700.709</td>\n",
       "    </tr>\n",
       "  </tbody>\n",
       "</table>\n",
       "</div>"
      ],
      "text/plain": [
       "                                  frequency_cal  recency_cal   T_cal  \\\n",
       "CustomerID                                                             \n",
       "a5fadc51b1ae844ad9a70ad3cfa46a64         61.000      269.000 270.000   \n",
       "42059a7ede026d409ff0f255635d7a08         16.000      222.000 225.000   \n",
       "5f01420f0edda6555df5ce1cc62b986c         32.000      269.000 269.000   \n",
       "742d5a52d4df7cb14246d7f390de5d8a         15.000      242.000 255.000   \n",
       "48a503edbaded96a3be27deee11967a1         36.000      262.000 270.000   \n",
       "\n",
       "                                  monetary_value_cal  frequency_holdout  \\\n",
       "CustomerID                                                                \n",
       "a5fadc51b1ae844ad9a70ad3cfa46a64             439.110             34.000   \n",
       "42059a7ede026d409ff0f255635d7a08             630.774              4.000   \n",
       "5f01420f0edda6555df5ce1cc62b986c             324.531              7.000   \n",
       "742d5a52d4df7cb14246d7f390de5d8a             531.223              6.000   \n",
       "48a503edbaded96a3be27deee11967a1             219.839             10.000   \n",
       "\n",
       "                                  monetary_value_holdout  duration_holdout  \\\n",
       "CustomerID                                                                   \n",
       "a5fadc51b1ae844ad9a70ad3cfa46a64                 262.559           101.000   \n",
       "42059a7ede026d409ff0f255635d7a08                 565.376           101.000   \n",
       "5f01420f0edda6555df5ce1cc62b986c                 182.973           101.000   \n",
       "742d5a52d4df7cb14246d7f390de5d8a                 441.583           101.000   \n",
       "48a503edbaded96a3be27deee11967a1                 185.645           101.000   \n",
       "\n",
       "                                  monetary_pred  clv_12mth  \n",
       "CustomerID                                                  \n",
       "a5fadc51b1ae844ad9a70ad3cfa46a64        261.968 19,612.561  \n",
       "42059a7ede026d409ff0f255635d7a08        526.551  8,227.258  \n",
       "5f01420f0edda6555df5ce1cc62b986c        185.672  7,681.155  \n",
       "742d5a52d4df7cb14246d7f390de5d8a        424.400  5,859.329  \n",
       "48a503edbaded96a3be27deee11967a1        187.444  5,700.709  "
      ]
     },
     "execution_count": 37,
     "metadata": {},
     "output_type": "execute_result"
    }
   ],
   "source": [
    "# This method computes the average lifetime value for a group of one or more customers.\n",
    "clv = ggf.customer_lifetime_value(\n",
    "    mbgf, # model to use to predict the number of future transactions\n",
    "    returning_customers_summary['frequency_cal'],\n",
    "    returning_customers_summary['recency_cal'],\n",
    "    returning_customers_summary['T_cal'],\n",
    "    returning_customers_summary['monetary_value_cal'],\n",
    "    time=12, # months\n",
    "    discount_rate=0.01 # monthly adjusted discount rate\n",
    ")\n",
    "\n",
    "returning_customers_summary['clv_12mth'] = clv\n",
    "returning_customers_summary = returning_customers_summary.sort_values(by = ['clv_12mth','monetary_pred'], ascending=False)\n",
    "returning_customers_summary.head()"
   ]
  },
  {
   "cell_type": "code",
   "execution_count": 38,
   "id": "5ea3c91c-d99b-4b7e-b5bf-10b00cd5e6ac",
   "metadata": {
    "tags": []
   },
   "outputs": [
    {
     "data": {
      "text/html": [
       "<div>\n",
       "<style scoped>\n",
       "    .dataframe tbody tr th:only-of-type {\n",
       "        vertical-align: middle;\n",
       "    }\n",
       "\n",
       "    .dataframe tbody tr th {\n",
       "        vertical-align: top;\n",
       "    }\n",
       "\n",
       "    .dataframe thead th {\n",
       "        text-align: right;\n",
       "    }\n",
       "</style>\n",
       "<table border=\"1\" class=\"dataframe\">\n",
       "  <thead>\n",
       "    <tr style=\"text-align: right;\">\n",
       "      <th></th>\n",
       "      <th>clv_12mth</th>\n",
       "    </tr>\n",
       "  </thead>\n",
       "  <tbody>\n",
       "    <tr>\n",
       "      <th>count</th>\n",
       "      <td>6,874.000</td>\n",
       "    </tr>\n",
       "    <tr>\n",
       "      <th>mean</th>\n",
       "      <td>455.058</td>\n",
       "    </tr>\n",
       "    <tr>\n",
       "      <th>std</th>\n",
       "      <td>557.086</td>\n",
       "    </tr>\n",
       "    <tr>\n",
       "      <th>min</th>\n",
       "      <td>3.389</td>\n",
       "    </tr>\n",
       "    <tr>\n",
       "      <th>25%</th>\n",
       "      <td>179.826</td>\n",
       "    </tr>\n",
       "    <tr>\n",
       "      <th>50%</th>\n",
       "      <td>299.192</td>\n",
       "    </tr>\n",
       "    <tr>\n",
       "      <th>75%</th>\n",
       "      <td>532.586</td>\n",
       "    </tr>\n",
       "    <tr>\n",
       "      <th>max</th>\n",
       "      <td>19,612.561</td>\n",
       "    </tr>\n",
       "  </tbody>\n",
       "</table>\n",
       "</div>"
      ],
      "text/plain": [
       "       clv_12mth\n",
       "count  6,874.000\n",
       "mean     455.058\n",
       "std      557.086\n",
       "min        3.389\n",
       "25%      179.826\n",
       "50%      299.192\n",
       "75%      532.586\n",
       "max   19,612.561"
      ]
     },
     "execution_count": 38,
     "metadata": {},
     "output_type": "execute_result"
    }
   ],
   "source": [
    "returning_customers_summary[[ 'clv_12mth']].describe()"
   ]
  },
  {
   "cell_type": "markdown",
   "id": "265819ac-910d-4b67-b622-04b8ecf38975",
   "metadata": {},
   "source": [
    "The above stats shows that total 6,874 customers' Customer Lifetime Vlue has been calculated and the average predicted CLV for the next 12 months across all these customers is ~$455, which means the average amount each customer is expected to contribute to the profit. The standard deviation is ~557 shows that the customers' values are spread out over a wide range, and some of the customers predicted to be more valueable than others. The min predicted clv is ~3 means the least valueable customer is still expected to bring some revenue over the next 12 months, while he highest predicted CLV is ~19k, which shows the model predicts one/some customers to be extremely valuable to the ecommerce store."
   ]
  },
  {
   "cell_type": "markdown",
   "id": "cc3bcff4-2e5d-43f7-861e-786a989d35d9",
   "metadata": {},
   "source": [
    "## 2.4 Summary based on the models and overall analysis\n",
    "\n",
    "**Do you think those assumptions are valid for a model of a customer buying widgets from an ecommerce store?**\n",
    "\n",
    "- Both models helped us understanding customer behaviors, theses assumptions may need re-evaluation to better accurately reflect the customers' purchasing patterns of buying widgets from an e-commerce store. Model retuning, and add additional data could improve the accuracy of these predictions.\n",
    "    - Both of the modified BG model and Gamma-Gamma model showed us they are over-estimated the customers' purchases and spend value. \n",
    "    - For the Modified BG model, we could make some adjustments for the model or use some alternative approaches to account for the high incidence of less repeat customers\n",
    "    - For the gamma-gamma model, the overestimation of spend and assumption of spending behavior may not be fully approriate for e-commerce, where customers spending can be impacted by promotions, seasonality, or personal preferences, etc.\n",
    "    - So further model tuning may be necessary, especially if more data become available\n"
   ]
  },
  {
   "cell_type": "markdown",
   "id": "ba59d919-f148-406e-a8b8-7399e5332f10",
   "metadata": {},
   "source": [
    "# 3. Predicting Future Customer Behavior:\n",
    "\n",
    "- Simulation\n",
    "- Segmentation"
   ]
  },
  {
   "cell_type": "code",
   "execution_count": 42,
   "id": "00d16b27-f591-4b12-8102-20582d9626a2",
   "metadata": {
    "tags": []
   },
   "outputs": [],
   "source": [
    "# use the previous fitted models and customized mbg pred functions\n",
    "# randomly select 100 sample customers\n",
    "# how many customers are alive after 10 days, 1 year, 10 years and 100 years \n",
    "# how many purchases they have made in that time using the modified BG model. \n",
    "def simulate_customer_behavior(data: pd.DataFrame, mbg_model, time_frames: List[int]) -> pd.DataFrame:\n",
    "    \"\"\"\n",
    "    Simulate customer behavior over diff time frames.\n",
    "    time_frames: List of time frames (in days) to simulate (e.g., [10, 365, 3650, 36500] for 10 days, 1 year, 10 years, 100 years).\n",
    "    Returns: The df with number of purchases and alive status of customers at each time frame.\n",
    "    \"\"\"\n",
    "    df = data.copy()\n",
    "    # a random sample of 100 customers\n",
    "    sampled_customers = df.sample(100, random_state=np.random.randint(10000))\n",
    "    simulation_results = pd.DataFrame(index=sampled_customers.index)\n",
    "\n",
    "    for days in time_frames:\n",
    "        # Predict custommers purchanses on diff time frames\n",
    "        simulation_results[f'purchases_{days}_days'] = mbg_model.conditional_expected_number_of_purchases_up_to_time(\n",
    "            t=days,\n",
    "            frequency=sampled_customers['frequency_cal'],\n",
    "            recency=sampled_customers['recency_cal'],\n",
    "            T=sampled_customers['T_cal']\n",
    "        )\n",
    "\n",
    "        # Compute the probability of being alive on diff timefraems\n",
    "        simulation_results[f'prob_alive_{days}_days'] = mbg_model.conditional_probability_alive(\n",
    "            frequency=sampled_customers['frequency_cal'],\n",
    "            recency=sampled_customers['recency_cal'],\n",
    "            T=sampled_customers['T_cal']\n",
    "        )  \n",
    "        \n",
    "        # Count how many purchases the cusotmers have made in diff time frames\n",
    "        total_purchases = simulation_results[f'purchases_{days}_days'].sum().round()\n",
    "        # Count how many cusotmers are alive in diff time frames by setting up the threshold at 0.5\n",
    "        total_alive = (simulation_results[f'prob_alive_{days}_days']>0.5).sum().round()\n",
    "        print(f\"Total purchases in {days} days: {total_purchases}. Total customers are alive after {days} days: {total_alive}\\n\")\n",
    "        \n",
    "    return simulation_results"
   ]
  },
  {
   "cell_type": "code",
   "execution_count": 43,
   "id": "3c4db13a-ba66-4029-9077-4dc9ab70eba1",
   "metadata": {
    "tags": []
   },
   "outputs": [
    {
     "name": "stdout",
     "output_type": "stream",
     "text": [
      "Total purchases in 10 days: 5.0. Total customers are alive after 10 days: 59\n",
      "\n",
      "Total purchases in 365 days: 132.0. Total customers are alive after 365 days: 59\n",
      "\n",
      "Total purchases in 3650 days: 560.0. Total customers are alive after 3650 days: 59\n",
      "\n",
      "Total purchases in 36500 days: 1450.0. Total customers are alive after 36500 days: 59\n",
      "\n"
     ]
    },
    {
     "data": {
      "text/html": [
       "<div>\n",
       "<style scoped>\n",
       "    .dataframe tbody tr th:only-of-type {\n",
       "        vertical-align: middle;\n",
       "    }\n",
       "\n",
       "    .dataframe tbody tr th {\n",
       "        vertical-align: top;\n",
       "    }\n",
       "\n",
       "    .dataframe thead th {\n",
       "        text-align: right;\n",
       "    }\n",
       "</style>\n",
       "<table border=\"1\" class=\"dataframe\">\n",
       "  <thead>\n",
       "    <tr style=\"text-align: right;\">\n",
       "      <th></th>\n",
       "      <th>purchases_10_days</th>\n",
       "      <th>prob_alive_10_days</th>\n",
       "      <th>purchases_365_days</th>\n",
       "      <th>prob_alive_365_days</th>\n",
       "      <th>purchases_3650_days</th>\n",
       "      <th>prob_alive_3650_days</th>\n",
       "      <th>purchases_36500_days</th>\n",
       "      <th>prob_alive_36500_days</th>\n",
       "    </tr>\n",
       "    <tr>\n",
       "      <th>CustomerID</th>\n",
       "      <th></th>\n",
       "      <th></th>\n",
       "      <th></th>\n",
       "      <th></th>\n",
       "      <th></th>\n",
       "      <th></th>\n",
       "      <th></th>\n",
       "      <th></th>\n",
       "    </tr>\n",
       "  </thead>\n",
       "  <tbody>\n",
       "    <tr>\n",
       "      <th>69a78dd6eab193bf9420e17bb1dff949</th>\n",
       "      <td>0.057</td>\n",
       "      <td>0.693</td>\n",
       "      <td>1.672</td>\n",
       "      <td>0.693</td>\n",
       "      <td>7.814</td>\n",
       "      <td>0.693</td>\n",
       "      <td>21.014</td>\n",
       "      <td>0.693</td>\n",
       "    </tr>\n",
       "    <tr>\n",
       "      <th>5cd2f869d81417f4b77ecd14b9718aa3</th>\n",
       "      <td>0.033</td>\n",
       "      <td>0.562</td>\n",
       "      <td>0.859</td>\n",
       "      <td>0.562</td>\n",
       "      <td>3.588</td>\n",
       "      <td>0.562</td>\n",
       "      <td>9.363</td>\n",
       "      <td>0.562</td>\n",
       "    </tr>\n",
       "    <tr>\n",
       "      <th>2ccadeb8c45642fe914020a9f630076d</th>\n",
       "      <td>0.017</td>\n",
       "      <td>0.466</td>\n",
       "      <td>0.492</td>\n",
       "      <td>0.466</td>\n",
       "      <td>2.329</td>\n",
       "      <td>0.466</td>\n",
       "      <td>6.544</td>\n",
       "      <td>0.466</td>\n",
       "    </tr>\n",
       "    <tr>\n",
       "      <th>23f8c41c6b94bd01a67c145f00358631</th>\n",
       "      <td>0.025</td>\n",
       "      <td>0.519</td>\n",
       "      <td>0.671</td>\n",
       "      <td>0.519</td>\n",
       "      <td>2.968</td>\n",
       "      <td>0.519</td>\n",
       "      <td>8.001</td>\n",
       "      <td>0.519</td>\n",
       "    </tr>\n",
       "    <tr>\n",
       "      <th>c0f60031347662c7af75c5c3b4a75650</th>\n",
       "      <td>0.113</td>\n",
       "      <td>0.775</td>\n",
       "      <td>3.205</td>\n",
       "      <td>0.775</td>\n",
       "      <td>14.202</td>\n",
       "      <td>0.775</td>\n",
       "      <td>36.882</td>\n",
       "      <td>0.775</td>\n",
       "    </tr>\n",
       "    <tr>\n",
       "      <th>...</th>\n",
       "      <td>...</td>\n",
       "      <td>...</td>\n",
       "      <td>...</td>\n",
       "      <td>...</td>\n",
       "      <td>...</td>\n",
       "      <td>...</td>\n",
       "      <td>...</td>\n",
       "      <td>...</td>\n",
       "    </tr>\n",
       "    <tr>\n",
       "      <th>37a717c3297bd6efb940bc03c3fe8e80</th>\n",
       "      <td>0.047</td>\n",
       "      <td>0.730</td>\n",
       "      <td>1.369</td>\n",
       "      <td>0.730</td>\n",
       "      <td>6.312</td>\n",
       "      <td>0.730</td>\n",
       "      <td>16.982</td>\n",
       "      <td>0.730</td>\n",
       "    </tr>\n",
       "    <tr>\n",
       "      <th>026a27bbbf324d9959ee0efc7705b126</th>\n",
       "      <td>0.030</td>\n",
       "      <td>0.548</td>\n",
       "      <td>0.793</td>\n",
       "      <td>0.548</td>\n",
       "      <td>3.377</td>\n",
       "      <td>0.548</td>\n",
       "      <td>8.904</td>\n",
       "      <td>0.548</td>\n",
       "    </tr>\n",
       "    <tr>\n",
       "      <th>2a922e210458deb87a2144133266a34f</th>\n",
       "      <td>0.080</td>\n",
       "      <td>0.666</td>\n",
       "      <td>2.174</td>\n",
       "      <td>0.666</td>\n",
       "      <td>9.104</td>\n",
       "      <td>0.666</td>\n",
       "      <td>23.058</td>\n",
       "      <td>0.666</td>\n",
       "    </tr>\n",
       "    <tr>\n",
       "      <th>76a69be43465697f46c4144edea74299</th>\n",
       "      <td>0.014</td>\n",
       "      <td>0.440</td>\n",
       "      <td>0.417</td>\n",
       "      <td>0.440</td>\n",
       "      <td>2.043</td>\n",
       "      <td>0.440</td>\n",
       "      <td>5.873</td>\n",
       "      <td>0.440</td>\n",
       "    </tr>\n",
       "    <tr>\n",
       "      <th>82d7ab4aa23213390c03db20912b22ef</th>\n",
       "      <td>0.020</td>\n",
       "      <td>0.487</td>\n",
       "      <td>0.556</td>\n",
       "      <td>0.487</td>\n",
       "      <td>2.565</td>\n",
       "      <td>0.487</td>\n",
       "      <td>7.088</td>\n",
       "      <td>0.487</td>\n",
       "    </tr>\n",
       "  </tbody>\n",
       "</table>\n",
       "<p>100 rows × 8 columns</p>\n",
       "</div>"
      ],
      "text/plain": [
       "                                  purchases_10_days  prob_alive_10_days  \\\n",
       "CustomerID                                                                \n",
       "69a78dd6eab193bf9420e17bb1dff949              0.057               0.693   \n",
       "5cd2f869d81417f4b77ecd14b9718aa3              0.033               0.562   \n",
       "2ccadeb8c45642fe914020a9f630076d              0.017               0.466   \n",
       "23f8c41c6b94bd01a67c145f00358631              0.025               0.519   \n",
       "c0f60031347662c7af75c5c3b4a75650              0.113               0.775   \n",
       "...                                             ...                 ...   \n",
       "37a717c3297bd6efb940bc03c3fe8e80              0.047               0.730   \n",
       "026a27bbbf324d9959ee0efc7705b126              0.030               0.548   \n",
       "2a922e210458deb87a2144133266a34f              0.080               0.666   \n",
       "76a69be43465697f46c4144edea74299              0.014               0.440   \n",
       "82d7ab4aa23213390c03db20912b22ef              0.020               0.487   \n",
       "\n",
       "                                  purchases_365_days  prob_alive_365_days  \\\n",
       "CustomerID                                                                  \n",
       "69a78dd6eab193bf9420e17bb1dff949               1.672                0.693   \n",
       "5cd2f869d81417f4b77ecd14b9718aa3               0.859                0.562   \n",
       "2ccadeb8c45642fe914020a9f630076d               0.492                0.466   \n",
       "23f8c41c6b94bd01a67c145f00358631               0.671                0.519   \n",
       "c0f60031347662c7af75c5c3b4a75650               3.205                0.775   \n",
       "...                                              ...                  ...   \n",
       "37a717c3297bd6efb940bc03c3fe8e80               1.369                0.730   \n",
       "026a27bbbf324d9959ee0efc7705b126               0.793                0.548   \n",
       "2a922e210458deb87a2144133266a34f               2.174                0.666   \n",
       "76a69be43465697f46c4144edea74299               0.417                0.440   \n",
       "82d7ab4aa23213390c03db20912b22ef               0.556                0.487   \n",
       "\n",
       "                                  purchases_3650_days  prob_alive_3650_days  \\\n",
       "CustomerID                                                                    \n",
       "69a78dd6eab193bf9420e17bb1dff949                7.814                 0.693   \n",
       "5cd2f869d81417f4b77ecd14b9718aa3                3.588                 0.562   \n",
       "2ccadeb8c45642fe914020a9f630076d                2.329                 0.466   \n",
       "23f8c41c6b94bd01a67c145f00358631                2.968                 0.519   \n",
       "c0f60031347662c7af75c5c3b4a75650               14.202                 0.775   \n",
       "...                                               ...                   ...   \n",
       "37a717c3297bd6efb940bc03c3fe8e80                6.312                 0.730   \n",
       "026a27bbbf324d9959ee0efc7705b126                3.377                 0.548   \n",
       "2a922e210458deb87a2144133266a34f                9.104                 0.666   \n",
       "76a69be43465697f46c4144edea74299                2.043                 0.440   \n",
       "82d7ab4aa23213390c03db20912b22ef                2.565                 0.487   \n",
       "\n",
       "                                  purchases_36500_days  prob_alive_36500_days  \n",
       "CustomerID                                                                     \n",
       "69a78dd6eab193bf9420e17bb1dff949                21.014                  0.693  \n",
       "5cd2f869d81417f4b77ecd14b9718aa3                 9.363                  0.562  \n",
       "2ccadeb8c45642fe914020a9f630076d                 6.544                  0.466  \n",
       "23f8c41c6b94bd01a67c145f00358631                 8.001                  0.519  \n",
       "c0f60031347662c7af75c5c3b4a75650                36.882                  0.775  \n",
       "...                                                ...                    ...  \n",
       "37a717c3297bd6efb940bc03c3fe8e80                16.982                  0.730  \n",
       "026a27bbbf324d9959ee0efc7705b126                 8.904                  0.548  \n",
       "2a922e210458deb87a2144133266a34f                23.058                  0.666  \n",
       "76a69be43465697f46c4144edea74299                 5.873                  0.440  \n",
       "82d7ab4aa23213390c03db20912b22ef                 7.088                  0.487  \n",
       "\n",
       "[100 rows x 8 columns]"
      ]
     },
     "execution_count": 43,
     "metadata": {},
     "output_type": "execute_result"
    }
   ],
   "source": [
    "# 10 days, 1 year, 10 years, 100 years\n",
    "time_frames = [10, 365, 3650, 36500]  # 10 days, 1 year, 10 years, 100 years\n",
    "# the alive threshold is setted as 0.5\n",
    "simulation_results = simulate_customer_behavior(data=daily_holdout, mbg_model=mbgf, time_frames=time_frames)\n",
    "simulation_results"
   ]
  },
  {
   "cell_type": "markdown",
   "id": "9cb40255-83ab-400b-8e7d-089d333c5f57",
   "metadata": {},
   "source": [
    "For very long time frames, i.e. 10 years or 100 years, the MBG model might not accurately reflect the decay in customer activitities, because such periods are beyond the typical scope of customer lifetime value models. The model is usually calibrated on shorter-term timeframe data and may not extrapolate well over many decades. Since in our simulation, we use a random sample of 100 customers, the sampled 100 customers may have a lower churn rate. But different samples could yield different results, especially given that we're looking at only one simulation run."
   ]
  },
  {
   "cell_type": "markdown",
   "id": "1d440b09-f158-4dde-a50e-fae5939aa0a6",
   "metadata": {},
   "source": [
    "## 4. Analysis of results \n",
    "- based on model result\n",
    "- simulation result\n",
    "\n",
    "\n",
    "**1. What the model works well:**\n",
    "\n",
    "- For shorter timeframes, the MBG model is effective/accurately in predicting purchase frequency\n",
    "- The Gamma-Gamma model accurately segments customers based on their spending patterns, which is useful for targeted marketing strategies.\n",
    "- Heterogeneity Handling: both models account for variation in customer behavior.\n",
    "    \n",
    "**2. What the model doesn't work well:**\n",
    "\n",
    "- The MBG model may not work well over very long periods(10 or 100 years), potentially underestimating changes in customer behavior over time.\n",
    "- The result from a single simulation run (especially with a small sample) might not be representative of the whole customer base, leading to inaccurate predictions.\n",
    "- We do have some outliers in the given data, the model performance could be impacted by that. \n",
    "    \n",
    "**3. How to address the deficiencies of the model:**\n",
    "\n",
    "- Model calibration and validation over longer periods: \n",
    "    - add more years of transaction data\n",
    "    - regularly recalibrate the models using updated and longer-term data to improve their accuracy over extended periods\n",
    "    - test the models over different time periods and compare predictions with actual outcomes, will help in understanding the model's performance over both short and long-term.\n",
    "        \n",
    "- Work with the stakeholders to understand the data/gather more information of the data:\n",
    "    - help us understand if these \"outliers\" of PurchaseValue are valuable customers, or incorrect data entries, etc.\n",
    "\n",
    "- Add extra featues in data:\n",
    "    - cencus data (demographics)\n",
    "    - seasonality: i.e. holidays, specitial envents, weather patterns, month of the year, day of the week, quarter\n",
    "    - marketing: i.e. sales, promotions, frequency of the emails sent to customers, customer registeration rate, customer click rate, etc\n",
    "- Fine tune the lifetime models and consider to combine with ensemble models to make the result more robust:\n",
    "    - Depends on the dataset size and complexity, we can choose Random Boost or XGBoost models to combine\n",
    "    - KNN can help for classify different customers based on their behavior pattern similarities \n",
    "    - Time series model (ARIMA) could help predict sales trends, looking at the transactions seasonality or other time related patterns\n",
    "    - Clustering method such as K-Means would be useful for customer segementation, identify different customer groups based on purchase behavior or interactions."
   ]
  },
  {
   "cell_type": "code",
   "execution_count": null,
   "id": "6b48c568-ce54-4202-8d90-144743e3417d",
   "metadata": {},
   "outputs": [],
   "source": []
  }
 ],
 "metadata": {
  "kernelspec": {
   "display_name": "Python 3 (ipykernel)",
   "language": "python",
   "name": "python3"
  },
  "language_info": {
   "codemirror_mode": {
    "name": "ipython",
    "version": 3
   },
   "file_extension": ".py",
   "mimetype": "text/x-python",
   "name": "python",
   "nbconvert_exporter": "python",
   "pygments_lexer": "ipython3",
   "version": "3.11.5"
  }
 },
 "nbformat": 4,
 "nbformat_minor": 5
}
